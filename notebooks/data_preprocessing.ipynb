{
 "cells": [
  {
   "cell_type": "markdown",
   "id": "cd77e2ea-b7ec-4a50-ad6c-8c4169597365",
   "metadata": {
    "tags": []
   },
   "source": [
    "<h1 style=\"text-align: center\"> Data Preprocessing: Mapping Scraped Restaurants with the Ingredients used and Categorizing Products from the Catalogue\n",
    "\n",
    " </h1>"
   ]
  },
  {
   "cell_type": "markdown",
   "id": "e85eebc9-a262-4f4c-bc21-b8d87dfba41f",
   "metadata": {
    "jp-MarkdownHeadingCollapsed": true,
    "tags": []
   },
   "source": [
    "# 1. Importing the libraries"
   ]
  },
  {
   "cell_type": "code",
   "execution_count": 129,
   "id": "53b510ae-92f8-4c44-b032-2eee4a7f564a",
   "metadata": {},
   "outputs": [],
   "source": [
    "import pickle\n",
    "from bs4 import BeautifulSoup\n",
    "import re\n",
    "import pandas as pd\n",
    "import matplotlib.pyplot as plt\n",
    "import seaborn as sns\n",
    "import nltk\n",
    "from nltk.corpus import stopwords\n",
    "from nltk.tokenize import word_tokenize\n",
    "import numpy as np\n",
    "from sklearn.feature_extraction.text import TfidfVectorizer\n",
    "from sklearn.metrics.pairwise import cosine_similarity\n",
    "from rapidfuzz import fuzz\n",
    "import ssl\n",
    "import certifi\n",
    "import nltk\n",
    "from collections import Counter\n",
    "# Use certifi's certificates to resolve the SSL issue\n",
    "ssl._create_default_https_context = ssl._create_unverified_context"
   ]
  },
  {
   "cell_type": "code",
   "execution_count": 24,
   "id": "a3e0f639-b242-4fd8-8e2f-78d818912d51",
   "metadata": {},
   "outputs": [
    {
     "name": "stderr",
     "output_type": "stream",
     "text": [
      "[nltk_data] Downloading package stopwords to\n",
      "[nltk_data]     /Users/savinaysingh/nltk_data...\n",
      "[nltk_data]   Package stopwords is already up-to-date!\n",
      "[nltk_data] Downloading package punkt to\n",
      "[nltk_data]     /Users/savinaysingh/nltk_data...\n",
      "[nltk_data]   Package punkt is already up-to-date!\n"
     ]
    },
    {
     "data": {
      "text/plain": [
       "True"
      ]
     },
     "execution_count": 24,
     "metadata": {},
     "output_type": "execute_result"
    }
   ],
   "source": [
    "# Download the stopwords and tokenizer (run this once)\n",
    "nltk.download('stopwords')\n",
    "nltk.download('punkt')"
   ]
  },
  {
   "cell_type": "markdown",
   "id": "3fc48b0f-283f-4733-959b-16c3d04292d7",
   "metadata": {
    "jp-MarkdownHeadingCollapsed": true,
    "tags": []
   },
   "source": [
    "# 2. Importing the Datasets"
   ]
  },
  {
   "cell_type": "code",
   "execution_count": 2,
   "id": "ec0495fb-3161-464c-a40a-e9bfd827dc52",
   "metadata": {},
   "outputs": [],
   "source": [
    "# The dataset contains raw HTML tags scraped from Google, which require parsing and cleaning\n",
    "# to extract meaningful information such as restaurant names, dish details, and prices.\n",
    "menu_data_tags=pickle.load(open('/Users/savinaysingh/Documents/Interview Preparation/FOBOHChallenge/ans.pkl','rb'))"
   ]
  },
  {
   "cell_type": "code",
   "execution_count": 3,
   "id": "8d7c180a-84bd-4d6e-9d5c-fcb54c31eff4",
   "metadata": {},
   "outputs": [],
   "source": [
    "# List of restaurants\n",
    "restaurants = [\n",
    "    \"Elements Bar and Grill Walsh Bay\",\n",
    "    \"Clam Bar\",\n",
    "    \"MuMu\",\n",
    "    \"Palazzo Salato\",\n",
    "    \"Ragazzi\",\n",
    "    \"O Bar and Dining\",\n",
    "    \"The Charles Brasserie & Bar\",\n",
    "    \"Bopp & Tone\",\n",
    "    \"BISTECCA\",\n",
    "    \"Cafe Sydney\",\n",
    "    \"Santa Catarina: Oaxacan Restaurant & Mezcal Bar Sydney\",\n",
    "    \"Grana\",\n",
    "    \"Esteban\",\n",
    "    \"The Gidley\",\n",
    "    \"Primi Italian\",\n",
    "    \"Mejico Restaurant\",\n",
    "    \"6HEAD Sydney\",\n",
    "    \"Restaurant Hubert\"\n",
    "]"
   ]
  },
  {
   "cell_type": "code",
   "execution_count": 4,
   "id": "e7fa13e3-04cc-4ae5-9b40-5e748dfd7a2f",
   "metadata": {},
   "outputs": [],
   "source": [
    "# Restaurant - html tags mapping\n",
    "menu_dict_tags=dict(zip(restaurants,menu_data_tags))"
   ]
  },
  {
   "cell_type": "code",
   "execution_count": 122,
   "id": "c7b64446-b793-41db-89a3-effbef50498c",
   "metadata": {},
   "outputs": [],
   "source": [
    "# Product Calalogue Dataset\n",
    "product_category=['Ham',\n",
    " 'Pork',\n",
    " 'Beef',\n",
    " 'Poultry',\n",
    " 'Sliced & Pulled Meats',\n",
    " 'Delicatessen Meats',\n",
    " 'Continental',\n",
    " 'Cheese',\n",
    " 'Soured Cream & Yoghurt',\n",
    " 'Eggs',\n",
    " 'Spreads & Fats',\n",
    " 'Pork Pies',\n",
    " 'Gourmet Pies',\n",
    " 'Pies, Pasties & Rolls',\n",
    " 'Quiche',\n",
    " 'Savouries',\n",
    " 'Bacon & Gammon',\n",
    " 'Salads & Dips',\n",
    " 'Sandwich Fillings - Dairy',\n",
    " 'Sandwich Fillings - Seafood',\n",
    " 'Sandwich Fillings - Chicken',\n",
    " 'Meatballs',\n",
    " 'Marinated & Pulled Meat',\n",
    " 'Canned Meat',\n",
    " 'Canned Fish',\n",
    " 'Canned Vegetables',\n",
    " 'Canned & Dried Fruit',\n",
    " 'Mayonnaise & Salad Cream',\n",
    " 'Chutneys & Pickles',\n",
    " 'Consumer Portions',\n",
    " 'Condiments & Sauces',\n",
    " 'Cooking Sauces',\n",
    " 'Soup',\n",
    " 'Gravy & Bouillon',\n",
    " 'Herbs, Spices & Seasoning',\n",
    " 'Dried Pasta & Rice',\n",
    " 'Oils',\n",
    " 'Preserves, Fruit Fillings & Toppings',\n",
    " 'Sugar & Sweetners',\n",
    " 'Bakery Products & Mixes',\n",
    " 'Breakfast Cereals',\n",
    " 'Confectionery',\n",
    " 'Biscuits',\n",
    " 'Traybakes',\n",
    " 'Crisps & Scratchings',\n",
    " 'Cake',\n",
    " 'Sausage',\n",
    " 'Burgers & Sandwich Steaks',\n",
    " 'Chicken',\n",
    " 'Seafood',\n",
    " 'Pies',\n",
    " 'Pasties & Slices',\n",
    " 'Savoury Rolls',\n",
    " 'Savoury Buffet',\n",
    " 'Asian Savouries',\n",
    " 'Ingredient Pastry & Yorkshire Puddings',\n",
    " 'Bread',\n",
    " 'Potato Products',\n",
    " 'Meal Solutions',\n",
    " 'Vegetables & Fruit',\n",
    " 'Desserts',\n",
    " 'Individual Cakes & Desserts',\n",
    " 'Traycakes & Slices',\n",
    " 'Sweet Pastries']\n"
   ]
  },
  {
   "cell_type": "code",
   "execution_count": 123,
   "id": "304917df-7b9c-4c1c-98de-a2347c15c57e",
   "metadata": {},
   "outputs": [],
   "source": [
    "product_category=[x.lower() for x in product_category]"
   ]
  },
  {
   "cell_type": "markdown",
   "id": "29fcb84f-9702-4199-925f-cfc9cd177982",
   "metadata": {},
   "source": [
    "# 3. Data Preprocessing"
   ]
  },
  {
   "cell_type": "markdown",
   "id": "6fb9f2c7-27c6-4700-8182-12e584ae6574",
   "metadata": {
    "jp-MarkdownHeadingCollapsed": true,
    "tags": []
   },
   "source": [
    "## 3.1. Parsing HTML to Create Restaurant-Menu Item Mappings"
   ]
  },
  {
   "cell_type": "code",
   "execution_count": 6,
   "id": "2030739c-57f9-4e0e-ac5a-9341149d818d",
   "metadata": {},
   "outputs": [],
   "source": [
    "def extract_menu_items_from_restaurants(menu_dict_tags):\n",
    "    # Initialize an empty DataFrame to store results\n",
    "    df = pd.DataFrame()\n",
    "\n",
    "    # Iterate over each restaurant in the menu_dict_tags\n",
    "    for restaurant, html_content in menu_dict_tags.items():\n",
    "        # Parse the HTML content for each restaurant\n",
    "        soup = BeautifulSoup(str(html_content), 'html.parser')\n",
    "\n",
    "        # List to store extracted menu items\n",
    "        menu_items = []\n",
    "\n",
    "        # Find all menu items\n",
    "        for item_div in soup.find_all(\"div\", class_=\"j0bkC\"):\n",
    "            name = item_div.find(\"div\", class_=\"gq9CCd\").text if item_div.find(\"div\", class_=\"gq9CCd\") else \"N/A\"\n",
    "            description = item_div.find(\"span\", class_=\"lum-fi-dl\").text if item_div.find(\"span\", class_=\"lum-fi-dl\") else \"N/A\"\n",
    "            price = item_div.find(\"span\", class_=\"fUcQpe\").text if item_div.find(\"span\", class_=\"fUcQpe\") else \"N/A\"\n",
    "\n",
    "            # Append extracted details to the list\n",
    "            menu_items.append({\n",
    "                \"Restaurant\": restaurant,\n",
    "                \"Dish\": name,\n",
    "                \"Key_Ingredients\": description,\n",
    "                \"Price\": price\n",
    "            })\n",
    "\n",
    "        # Append the extracted menu items to the DataFrame\n",
    "        df = pd.concat([df, pd.DataFrame(menu_items)], ignore_index=True)\n",
    "\n",
    "    return df"
   ]
  },
  {
   "cell_type": "code",
   "execution_count": 8,
   "id": "d91d7d9d-d6e8-4187-868a-a6deded3495e",
   "metadata": {},
   "outputs": [],
   "source": [
    "df=extract_menu_items_from_restaurants(menu_dict_tags)"
   ]
  },
  {
   "cell_type": "code",
   "execution_count": 10,
   "id": "a120893d-06e6-44c3-afda-56bd6f2d9cf4",
   "metadata": {},
   "outputs": [
    {
     "data": {
      "text/html": [
       "<div>\n",
       "<style scoped>\n",
       "    .dataframe tbody tr th:only-of-type {\n",
       "        vertical-align: middle;\n",
       "    }\n",
       "\n",
       "    .dataframe tbody tr th {\n",
       "        vertical-align: top;\n",
       "    }\n",
       "\n",
       "    .dataframe thead th {\n",
       "        text-align: right;\n",
       "    }\n",
       "</style>\n",
       "<table border=\"1\" class=\"dataframe\">\n",
       "  <thead>\n",
       "    <tr style=\"text-align: right;\">\n",
       "      <th></th>\n",
       "      <th>Restaurant</th>\n",
       "      <th>Dish</th>\n",
       "      <th>Key_Ingredients</th>\n",
       "      <th>Price</th>\n",
       "    </tr>\n",
       "  </thead>\n",
       "  <tbody>\n",
       "    <tr>\n",
       "      <th>670</th>\n",
       "      <td>Esteban</td>\n",
       "      <td>Smoked Black Bean Dip</td>\n",
       "      <td>corn totopos, salsa macha oil, lime (gf)(⊽)</td>\n",
       "      <td>$16.00</td>\n",
       "    </tr>\n",
       "    <tr>\n",
       "      <th>671</th>\n",
       "      <td>Esteban</td>\n",
       "      <td>Tasmanian Salmon Ceviche Taco</td>\n",
       "      <td>each cilantro, chilli, onion, crisp yellow cor...</td>\n",
       "      <td>$11.00</td>\n",
       "    </tr>\n",
       "    <tr>\n",
       "      <th>672</th>\n",
       "      <td>Esteban</td>\n",
       "      <td>Beef Tartare Taco</td>\n",
       "      <td>each egg jam, mountain pepper leaf, papas al h...</td>\n",
       "      <td>$14.00</td>\n",
       "    </tr>\n",
       "    <tr>\n",
       "      <th>673</th>\n",
       "      <td>Esteban</td>\n",
       "      <td>Tostada De Berenjena</td>\n",
       "      <td>each smoked bean purée, avocado, mahon cheese,...</td>\n",
       "      <td>$12.00</td>\n",
       "    </tr>\n",
       "    <tr>\n",
       "      <th>674</th>\n",
       "      <td>Esteban</td>\n",
       "      <td>Pink Ling Ceviche</td>\n",
       "      <td>leche de tigre, karkalla, plantain frito (gf)(df)</td>\n",
       "      <td>$27.00</td>\n",
       "    </tr>\n",
       "    <tr>\n",
       "      <th>675</th>\n",
       "      <td>Esteban</td>\n",
       "      <td>Taco Al Pastor</td>\n",
       "      <td>each adobo marinated pork, tomatillo salsa, ro...</td>\n",
       "      <td>$14.00</td>\n",
       "    </tr>\n",
       "    <tr>\n",
       "      <th>676</th>\n",
       "      <td>Esteban</td>\n",
       "      <td>Prawn Taco</td>\n",
       "      <td>each tomatillo, salsa Mexicana, hand made corn...</td>\n",
       "      <td>$14.00</td>\n",
       "    </tr>\n",
       "    <tr>\n",
       "      <th>677</th>\n",
       "      <td>Esteban</td>\n",
       "      <td>Fire Roasted SA Calamari</td>\n",
       "      <td>mole de mar, bottarga, salsa verde (gf)(df)</td>\n",
       "      <td>$35.00</td>\n",
       "    </tr>\n",
       "    <tr>\n",
       "      <th>678</th>\n",
       "      <td>Esteban</td>\n",
       "      <td>Sautéed Vongole</td>\n",
       "      <td>chorizo and chipotle butter, cactus, chochoyot...</td>\n",
       "      <td>$34.00</td>\n",
       "    </tr>\n",
       "    <tr>\n",
       "      <th>679</th>\n",
       "      <td>Esteban</td>\n",
       "      <td>Seared Pork Belly</td>\n",
       "      <td>pickled watermelon radish, baby onions, salsa ...</td>\n",
       "      <td>$28.00</td>\n",
       "    </tr>\n",
       "    <tr>\n",
       "      <th>680</th>\n",
       "      <td>Esteban</td>\n",
       "      <td>Grilled Season Vegetables</td>\n",
       "      <td>chayote squash, yellow squash, radicchio, mole...</td>\n",
       "      <td>$22.00</td>\n",
       "    </tr>\n",
       "    <tr>\n",
       "      <th>681</th>\n",
       "      <td>Esteban</td>\n",
       "      <td>Coffee Roasted Pumpkin</td>\n",
       "      <td>pipian rojo, grilled chard, spiced pepita crum...</td>\n",
       "      <td>$32.00</td>\n",
       "    </tr>\n",
       "    <tr>\n",
       "      <th>682</th>\n",
       "      <td>Esteban</td>\n",
       "      <td>Ironbark Grilled Chicken</td>\n",
       "      <td>tinga sauce, grilled spring onion, mote (gf)</td>\n",
       "      <td>$48.00</td>\n",
       "    </tr>\n",
       "    <tr>\n",
       "      <th>683</th>\n",
       "      <td>Esteban</td>\n",
       "      <td>Pescado Del Mercado</td>\n",
       "      <td>fresh market fish, cabbage purée, charred sals...</td>\n",
       "      <td>N/A</td>\n",
       "    </tr>\n",
       "    <tr>\n",
       "      <th>684</th>\n",
       "      <td>Esteban</td>\n",
       "      <td>700g NSW Lamb Shoulder Birria</td>\n",
       "      <td>consommé, pickled chilli (gf)(df)</td>\n",
       "      <td>$66.00</td>\n",
       "    </tr>\n",
       "    <tr>\n",
       "      <th>685</th>\n",
       "      <td>Esteban</td>\n",
       "      <td>Butcher’s Choice Steak</td>\n",
       "      <td>black garlic &amp; chipotle butter (gf)</td>\n",
       "      <td>N/A</td>\n",
       "    </tr>\n",
       "    <tr>\n",
       "      <th>686</th>\n",
       "      <td>Esteban</td>\n",
       "      <td>Perry Family Farm 1kg Wagyu Rib-Eye</td>\n",
       "      <td>(MBS6+) From a family farm in the Tablelands N...</td>\n",
       "      <td>$284.00</td>\n",
       "    </tr>\n",
       "    <tr>\n",
       "      <th>687</th>\n",
       "      <td>Esteban</td>\n",
       "      <td>Wood Fired Broccolini</td>\n",
       "      <td>spiced labneh, toasted almond, chilli oil (gf)(n)</td>\n",
       "      <td>$16.00</td>\n",
       "    </tr>\n",
       "    <tr>\n",
       "      <th>688</th>\n",
       "      <td>Esteban</td>\n",
       "      <td>Esteban’s Potatoes</td>\n",
       "      <td>smoked kipflers, roasted jalapeño crema (gf)(df)</td>\n",
       "      <td>$15.00</td>\n",
       "    </tr>\n",
       "    <tr>\n",
       "      <th>689</th>\n",
       "      <td>Esteban</td>\n",
       "      <td>Charred Sugarloaf Cabbage</td>\n",
       "      <td>pistachio crema, toasted pistachio, chive (gf)...</td>\n",
       "      <td>$16.00</td>\n",
       "    </tr>\n",
       "    <tr>\n",
       "      <th>690</th>\n",
       "      <td>Esteban</td>\n",
       "      <td>Salsa Flight</td>\n",
       "      <td>salsa pasilla, salsa picante, tomatillo salsa,...</td>\n",
       "      <td>$11.00</td>\n",
       "    </tr>\n",
       "    <tr>\n",
       "      <th>691</th>\n",
       "      <td>Esteban</td>\n",
       "      <td>Handmade Tortillas</td>\n",
       "      <td>(4) burnt onion, cilantro, lime (gf)</td>\n",
       "      <td>$7.00</td>\n",
       "    </tr>\n",
       "    <tr>\n",
       "      <th>692</th>\n",
       "      <td>Esteban</td>\n",
       "      <td>Piña Colada</td>\n",
       "      <td>coconut mousse, pineapple sorbet, granita, cha...</td>\n",
       "      <td>$17.00</td>\n",
       "    </tr>\n",
       "    <tr>\n",
       "      <th>693</th>\n",
       "      <td>Esteban</td>\n",
       "      <td>Tres Leches</td>\n",
       "      <td>café de olla ‘pot coffee’ ice cream</td>\n",
       "      <td>$17.00</td>\n",
       "    </tr>\n",
       "    <tr>\n",
       "      <th>694</th>\n",
       "      <td>Esteban</td>\n",
       "      <td>Helado De Chocolate</td>\n",
       "      <td>chocolate mousse, with chilli chocolate ice cr...</td>\n",
       "      <td>$10.00</td>\n",
       "    </tr>\n",
       "  </tbody>\n",
       "</table>\n",
       "</div>"
      ],
      "text/plain": [
       "    Restaurant                                 Dish  \\\n",
       "670    Esteban                Smoked Black Bean Dip   \n",
       "671    Esteban        Tasmanian Salmon Ceviche Taco   \n",
       "672    Esteban                    Beef Tartare Taco   \n",
       "673    Esteban                 Tostada De Berenjena   \n",
       "674    Esteban                    Pink Ling Ceviche   \n",
       "675    Esteban                       Taco Al Pastor   \n",
       "676    Esteban                           Prawn Taco   \n",
       "677    Esteban             Fire Roasted SA Calamari   \n",
       "678    Esteban                      Sautéed Vongole   \n",
       "679    Esteban                    Seared Pork Belly   \n",
       "680    Esteban            Grilled Season Vegetables   \n",
       "681    Esteban               Coffee Roasted Pumpkin   \n",
       "682    Esteban             Ironbark Grilled Chicken   \n",
       "683    Esteban                  Pescado Del Mercado   \n",
       "684    Esteban        700g NSW Lamb Shoulder Birria   \n",
       "685    Esteban               Butcher’s Choice Steak   \n",
       "686    Esteban  Perry Family Farm 1kg Wagyu Rib-Eye   \n",
       "687    Esteban                Wood Fired Broccolini   \n",
       "688    Esteban                   Esteban’s Potatoes   \n",
       "689    Esteban            Charred Sugarloaf Cabbage   \n",
       "690    Esteban                         Salsa Flight   \n",
       "691    Esteban                   Handmade Tortillas   \n",
       "692    Esteban                          Piña Colada   \n",
       "693    Esteban                          Tres Leches   \n",
       "694    Esteban                  Helado De Chocolate   \n",
       "\n",
       "                                       Key_Ingredients    Price  \n",
       "670        corn totopos, salsa macha oil, lime (gf)(⊽)   $16.00  \n",
       "671  each cilantro, chilli, onion, crisp yellow cor...   $11.00  \n",
       "672  each egg jam, mountain pepper leaf, papas al h...   $14.00  \n",
       "673  each smoked bean purée, avocado, mahon cheese,...   $12.00  \n",
       "674  leche de tigre, karkalla, plantain frito (gf)(df)   $27.00  \n",
       "675  each adobo marinated pork, tomatillo salsa, ro...   $14.00  \n",
       "676  each tomatillo, salsa Mexicana, hand made corn...   $14.00  \n",
       "677        mole de mar, bottarga, salsa verde (gf)(df)   $35.00  \n",
       "678  chorizo and chipotle butter, cactus, chochoyot...   $34.00  \n",
       "679  pickled watermelon radish, baby onions, salsa ...   $28.00  \n",
       "680  chayote squash, yellow squash, radicchio, mole...   $22.00  \n",
       "681  pipian rojo, grilled chard, spiced pepita crum...   $32.00  \n",
       "682       tinga sauce, grilled spring onion, mote (gf)   $48.00  \n",
       "683  fresh market fish, cabbage purée, charred sals...      N/A  \n",
       "684                  consommé, pickled chilli (gf)(df)   $66.00  \n",
       "685                black garlic & chipotle butter (gf)      N/A  \n",
       "686  (MBS6+) From a family farm in the Tablelands N...  $284.00  \n",
       "687  spiced labneh, toasted almond, chilli oil (gf)(n)   $16.00  \n",
       "688   smoked kipflers, roasted jalapeño crema (gf)(df)   $15.00  \n",
       "689  pistachio crema, toasted pistachio, chive (gf)...   $16.00  \n",
       "690  salsa pasilla, salsa picante, tomatillo salsa,...   $11.00  \n",
       "691               (4) burnt onion, cilantro, lime (gf)    $7.00  \n",
       "692  coconut mousse, pineapple sorbet, granita, cha...   $17.00  \n",
       "693                café de olla ‘pot coffee’ ice cream   $17.00  \n",
       "694  chocolate mousse, with chilli chocolate ice cr...   $10.00  "
      ]
     },
     "execution_count": 10,
     "metadata": {},
     "output_type": "execute_result"
    }
   ],
   "source": [
    "# Menu for the restaurant named 'Esteban' \n",
    "df[df['Restaurant']=='Esteban']"
   ]
  },
  {
   "cell_type": "markdown",
   "id": "a478527b-7e4b-4045-a453-645dbbd7bdec",
   "metadata": {
    "jp-MarkdownHeadingCollapsed": true,
    "tags": []
   },
   "source": [
    "## 3.2. Handling the missing values "
   ]
  },
  {
   "cell_type": "code",
   "execution_count": 12,
   "id": "3c5745bc-609f-4119-a03f-3831815d91db",
   "metadata": {},
   "outputs": [],
   "source": [
    "# Removing the data where dish is empty/null\n",
    "df=df[df['Dish']!='N/A']"
   ]
  },
  {
   "cell_type": "code",
   "execution_count": 13,
   "id": "bae737ff-ec62-4b02-9276-f48e44f2380c",
   "metadata": {},
   "outputs": [],
   "source": [
    "# Handling missing data for Key_Ingredients\n",
    "df_missing=df[df['Key_Ingredients']=='']"
   ]
  },
  {
   "cell_type": "code",
   "execution_count": 15,
   "id": "c0c2688e-f077-49e5-90e6-aa81a8c4424f",
   "metadata": {},
   "outputs": [],
   "source": [
    "df_missing=df_missing[0:485]"
   ]
  },
  {
   "cell_type": "code",
   "execution_count": 191,
   "id": "55a55592-9a03-44cc-beac-625e09db5ec8",
   "metadata": {},
   "outputs": [],
   "source": [
    "# Load the list of key ingredients from a pickle file\n",
    "# The 'GenAIOutput.pkl' file contains preprocessed ingredient data generated by a model\n",
    "ans_list = pickle.load(open('GenAIOutput.pkl', 'rb'))\n",
    "\n",
    "# Assign the loaded list of key ingredients to the 'Key_Ingredients' column in the df_missing DataFrame\n",
    "df_missing['Key_Ingredients'] = ans_list\n",
    "\n",
    "# Create a new DataFrame df_full that contains only the rows from df where 'Key_Ingredients' is not empty\n",
    "df_full = df[df['Key_Ingredients'] != '']\n",
    "\n",
    "# Concatenate the df_full DataFrame with df_missing to create a comprehensive DataFrame\n",
    "# This includes both full records and records with missing key ingredient data\n",
    "df = pd.concat([df_full, df_missing])\n",
    "\n",
    "# Save the final concatenated DataFrame to a CSV file named 'preprocessed_v1.csv'\n",
    "# This CSV file will contain the cleaned and processed data ready for further analysis\n",
    "df.to_csv('preprocessed_v1.csv', index=False)  # Ensure to include index=False to avoid writing row indices\n"
   ]
  },
  {
   "cell_type": "code",
   "execution_count": 78,
   "id": "e7a9a828-ec38-407f-90f7-29904a7cf078",
   "metadata": {},
   "outputs": [],
   "source": [
    "df=pd.read_csv('preprocessed_v1.csv')\n",
    "df=df[~df.Key_Ingredients.isna()]"
   ]
  },
  {
   "cell_type": "markdown",
   "id": "a2011cba-03e1-481e-8564-54e821845011",
   "metadata": {
    "jp-MarkdownHeadingCollapsed": true,
    "tags": []
   },
   "source": [
    "## 3.3. Handling weight units, punctuation, numerics and other noise"
   ]
  },
  {
   "cell_type": "code",
   "execution_count": 79,
   "id": "e3962222-8cce-4594-96a2-d358822f293a",
   "metadata": {},
   "outputs": [],
   "source": [
    "def remove_weight_units(text):\n",
    "    # Define the regex pattern to match weight units, including those in parentheses\n",
    "    pattern = r'\\b\\d*\\s*(g|kg|ml|l|oz|lbs|gf|df)\\b|\\(\\s*(g|kg|ml|l|oz|lbs|gf|df)\\s*\\)'\n",
    "\n",
    "    # Substitute matched patterns with an empty string\n",
    "    cleaned_text = re.sub(pattern, '', text.lower())\n",
    "    \n",
    "    # Remove any extra whitespace\n",
    "    cleaned_text = re.sub(r'\\s+', ' ', cleaned_text).strip()\n",
    "    \n",
    "    return cleaned_text"
   ]
  },
  {
   "cell_type": "code",
   "execution_count": 80,
   "id": "55a49127-500b-4f5a-a475-424994b7a5e0",
   "metadata": {},
   "outputs": [
    {
     "data": {
      "text/plain": [
       "'smoked kipflers, roasted jalapeño crema'"
      ]
     },
     "execution_count": 80,
     "metadata": {},
     "output_type": "execute_result"
    }
   ],
   "source": [
    "remove_weight_units('smoked kipflers, roasted jalapeño crema  (g) (gf)(df)')"
   ]
  },
  {
   "cell_type": "code",
   "execution_count": 81,
   "id": "6af32fd6-60b8-44df-ad41-62ef1528caaf",
   "metadata": {},
   "outputs": [],
   "source": [
    "df.Key_Ingredients=[remove_weight_units(x) for x in df.Key_Ingredients]"
   ]
  },
  {
   "cell_type": "code",
   "execution_count": 82,
   "id": "acfe54b6-5f1e-4ddc-b1b6-00cd2fe0b20b",
   "metadata": {},
   "outputs": [
    {
     "data": {
      "text/html": [
       "<div>\n",
       "<style scoped>\n",
       "    .dataframe tbody tr th:only-of-type {\n",
       "        vertical-align: middle;\n",
       "    }\n",
       "\n",
       "    .dataframe tbody tr th {\n",
       "        vertical-align: top;\n",
       "    }\n",
       "\n",
       "    .dataframe thead th {\n",
       "        text-align: right;\n",
       "    }\n",
       "</style>\n",
       "<table border=\"1\" class=\"dataframe\">\n",
       "  <thead>\n",
       "    <tr style=\"text-align: right;\">\n",
       "      <th></th>\n",
       "      <th>Unnamed: 0</th>\n",
       "      <th>Restaurant</th>\n",
       "      <th>Dish</th>\n",
       "      <th>Key_Ingredients</th>\n",
       "      <th>Price</th>\n",
       "    </tr>\n",
       "  </thead>\n",
       "  <tbody>\n",
       "    <tr>\n",
       "      <th>85</th>\n",
       "      <td>593</td>\n",
       "      <td>Grana</td>\n",
       "      <td>Freshly shucked oysters, blood orange and pros...</td>\n",
       "      <td>ea sydney rock oysters, nsw</td>\n",
       "      <td>$6.50</td>\n",
       "    </tr>\n",
       "    <tr>\n",
       "      <th>86</th>\n",
       "      <td>594</td>\n",
       "      <td>Grana</td>\n",
       "      <td>Kingfish crudo, spring onion verde, mandarin, ...</td>\n",
       "      <td>spencer gulf, sa</td>\n",
       "      <td>$30.00</td>\n",
       "    </tr>\n",
       "    <tr>\n",
       "      <th>87</th>\n",
       "      <td>595</td>\n",
       "      <td>Grana</td>\n",
       "      <td>Yellowfin tuna tartare, avocado, agrodolce dre...</td>\n",
       "      <td>bermagui, nsw</td>\n",
       "      <td>$32.00</td>\n",
       "    </tr>\n",
       "    <tr>\n",
       "      <th>88</th>\n",
       "      <td>596</td>\n",
       "      <td>Grana</td>\n",
       "      <td>Citrus glazed king prawns, black pepper aioli,...</td>\n",
       "      <td>skull island, nt</td>\n",
       "      <td>$42.00</td>\n",
       "    </tr>\n",
       "    <tr>\n",
       "      <th>89</th>\n",
       "      <td>597</td>\n",
       "      <td>Grana</td>\n",
       "      <td>Humpty doo barramundi, spring green peas charr...</td>\n",
       "      <td>middle point, nt</td>\n",
       "      <td>$45.00</td>\n",
       "    </tr>\n",
       "    <tr>\n",
       "      <th>90</th>\n",
       "      <td>598</td>\n",
       "      <td>Grana</td>\n",
       "      <td>Market Fish, cime di rapa, lemon and caperberr...</td>\n",
       "      <td>locally sourced</td>\n",
       "      <td>NaN</td>\n",
       "    </tr>\n",
       "    <tr>\n",
       "      <th>91</th>\n",
       "      <td>604</td>\n",
       "      <td>Grana</td>\n",
       "      <td>Take our bread home</td>\n",
       "      <td>house baked daily</td>\n",
       "      <td>$12.00</td>\n",
       "    </tr>\n",
       "    <tr>\n",
       "      <th>92</th>\n",
       "      <td>605</td>\n",
       "      <td>Grana</td>\n",
       "      <td>Smoked raw beef, black garlic, guindillas, pec...</td>\n",
       "      <td>glen innes, nsw</td>\n",
       "      <td>$29.00</td>\n",
       "    </tr>\n",
       "    <tr>\n",
       "      <th>93</th>\n",
       "      <td>606</td>\n",
       "      <td>Grana</td>\n",
       "      <td>Grilled free-range chicken, saffron risoni, re...</td>\n",
       "      <td>byron bay hinterland, nsw</td>\n",
       "      <td>$42.00</td>\n",
       "    </tr>\n",
       "    <tr>\n",
       "      <th>94</th>\n",
       "      <td>607</td>\n",
       "      <td>Grana</td>\n",
       "      <td>Pork cotoletta, fennel, pickled apple, tarrago...</td>\n",
       "      <td>ebenezer, nsw</td>\n",
       "      <td>$43.00</td>\n",
       "    </tr>\n",
       "    <tr>\n",
       "      <th>95</th>\n",
       "      <td>608</td>\n",
       "      <td>Grana</td>\n",
       "      <td>Glazed lamb shoulder, garlic yoghurt, broadlea...</td>\n",
       "      <td>margra lamb, oberon, nsw</td>\n",
       "      <td>NaN</td>\n",
       "    </tr>\n",
       "    <tr>\n",
       "      <th>96</th>\n",
       "      <td>609</td>\n",
       "      <td>Grana</td>\n",
       "      <td>400g grain-fed Angus scotch fillet tagliata, s...</td>\n",
       "      <td>riverina district, nsw</td>\n",
       "      <td>$69.00</td>\n",
       "    </tr>\n",
       "    <tr>\n",
       "      <th>97</th>\n",
       "      <td>614</td>\n",
       "      <td>Grana</td>\n",
       "      <td>Milk chocolate biscotto padella, burnt butter ...</td>\n",
       "      <td>please allow 20 minutes</td>\n",
       "      <td>$18.00</td>\n",
       "    </tr>\n",
       "    <tr>\n",
       "      <th>98</th>\n",
       "      <td>645</td>\n",
       "      <td>Grana</td>\n",
       "      <td>Sydney rock oysters, mignonette</td>\n",
       "      <td>ea</td>\n",
       "      <td>$6.00</td>\n",
       "    </tr>\n",
       "    <tr>\n",
       "      <th>99</th>\n",
       "      <td>646</td>\n",
       "      <td>Grana</td>\n",
       "      <td>Yellowfin tuna crackers, avocado, agrodolce dr...</td>\n",
       "      <td>2 for</td>\n",
       "      <td>$20.00</td>\n",
       "    </tr>\n",
       "    <tr>\n",
       "      <th>100</th>\n",
       "      <td>662</td>\n",
       "      <td>Grana</td>\n",
       "      <td>arancini</td>\n",
       "      <td>3 pc</td>\n",
       "      <td>$10.00</td>\n",
       "    </tr>\n",
       "    <tr>\n",
       "      <th>101</th>\n",
       "      <td>666</td>\n",
       "      <td>Grana</td>\n",
       "      <td>Milk chocolate biscotto padella, burnt butter ...</td>\n",
       "      <td>please allow twenty minutes</td>\n",
       "      <td>$19.00</td>\n",
       "    </tr>\n",
       "  </tbody>\n",
       "</table>\n",
       "</div>"
      ],
      "text/plain": [
       "     Unnamed: 0 Restaurant                                               Dish  \\\n",
       "85          593      Grana  Freshly shucked oysters, blood orange and pros...   \n",
       "86          594      Grana  Kingfish crudo, spring onion verde, mandarin, ...   \n",
       "87          595      Grana  Yellowfin tuna tartare, avocado, agrodolce dre...   \n",
       "88          596      Grana  Citrus glazed king prawns, black pepper aioli,...   \n",
       "89          597      Grana  Humpty doo barramundi, spring green peas charr...   \n",
       "90          598      Grana  Market Fish, cime di rapa, lemon and caperberr...   \n",
       "91          604      Grana                                Take our bread home   \n",
       "92          605      Grana  Smoked raw beef, black garlic, guindillas, pec...   \n",
       "93          606      Grana  Grilled free-range chicken, saffron risoni, re...   \n",
       "94          607      Grana  Pork cotoletta, fennel, pickled apple, tarrago...   \n",
       "95          608      Grana  Glazed lamb shoulder, garlic yoghurt, broadlea...   \n",
       "96          609      Grana  400g grain-fed Angus scotch fillet tagliata, s...   \n",
       "97          614      Grana  Milk chocolate biscotto padella, burnt butter ...   \n",
       "98          645      Grana                    Sydney rock oysters, mignonette   \n",
       "99          646      Grana  Yellowfin tuna crackers, avocado, agrodolce dr...   \n",
       "100         662      Grana                                           arancini   \n",
       "101         666      Grana  Milk chocolate biscotto padella, burnt butter ...   \n",
       "\n",
       "                 Key_Ingredients   Price  \n",
       "85   ea sydney rock oysters, nsw   $6.50  \n",
       "86              spencer gulf, sa  $30.00  \n",
       "87                 bermagui, nsw  $32.00  \n",
       "88              skull island, nt  $42.00  \n",
       "89              middle point, nt  $45.00  \n",
       "90               locally sourced     NaN  \n",
       "91             house baked daily  $12.00  \n",
       "92               glen innes, nsw  $29.00  \n",
       "93     byron bay hinterland, nsw  $42.00  \n",
       "94                 ebenezer, nsw  $43.00  \n",
       "95      margra lamb, oberon, nsw     NaN  \n",
       "96        riverina district, nsw  $69.00  \n",
       "97       please allow 20 minutes  $18.00  \n",
       "98                            ea   $6.00  \n",
       "99                         2 for  $20.00  \n",
       "100                         3 pc  $10.00  \n",
       "101  please allow twenty minutes  $19.00  "
      ]
     },
     "execution_count": 82,
     "metadata": {},
     "output_type": "execute_result"
    }
   ],
   "source": [
    "# 85 - 101 useless data\n",
    "df[85:102]"
   ]
  },
  {
   "cell_type": "code",
   "execution_count": 83,
   "id": "236b1525-b5f1-48a5-93f7-8d3bcde47758",
   "metadata": {},
   "outputs": [],
   "source": [
    "df = df.drop(index=range(85, 102)).reset_index(drop=True)\n",
    "df=df.reset_index(drop=True)"
   ]
  },
  {
   "cell_type": "code",
   "execution_count": null,
   "id": "063c06c6-93e7-4a5d-b568-2bbe179c5eb5",
   "metadata": {},
   "outputs": [],
   "source": []
  },
  {
   "cell_type": "code",
   "execution_count": 84,
   "id": "923a465f-b7d5-4904-a888-772f414e712b",
   "metadata": {
    "scrolled": true,
    "tags": []
   },
   "outputs": [],
   "source": [
    "# Replacing &s with a comma\n",
    "df.Key_Ingredients=df.Key_Ingredients.str.replace(\"&\", \",\", regex=False)"
   ]
  },
  {
   "cell_type": "code",
   "execution_count": 86,
   "id": "918deb0d-4f83-4cda-8ec5-46ed6da730e7",
   "metadata": {},
   "outputs": [],
   "source": [
    "def clean_ingredients(ingredients_list):\n",
    "    cleaned_ingredients = []\n",
    "    \n",
    "    for item in ingredients_list:\n",
    "        # Remove unwanted punctuation (keeping only commas and spaces)\n",
    "        item = re.sub(r\"[^\\w\\s,]\", \"\", item)\n",
    "        \n",
    "        # Normalize whitespace\n",
    "        item = re.sub(r'\\s+', ' ', item).strip()\n",
    "        \n",
    "        # Convert to lowercase\n",
    "        item = item.lower()\n",
    "        \n",
    "        # Remove any numeric values, if needed (you can keep them by commenting the next line)\n",
    "        item = re.sub(r'\\d+', '', item)\n",
    "        \n",
    "        # Append the cleaned item to the list\n",
    "        cleaned_ingredients.append(item)\n",
    "    \n",
    "    return cleaned_ingredients"
   ]
  },
  {
   "cell_type": "code",
   "execution_count": 87,
   "id": "7fd21861-29cc-4336-9676-301a08995bb7",
   "metadata": {},
   "outputs": [],
   "source": [
    "df.Key_Ingredients=clean_ingredients(df.Key_Ingredients)"
   ]
  },
  {
   "cell_type": "markdown",
   "id": "1a7c424f-54e5-4735-8ced-78083fe2de61",
   "metadata": {
    "jp-MarkdownHeadingCollapsed": true,
    "tags": []
   },
   "source": [
    "## 3.4. Removal of stop words"
   ]
  },
  {
   "cell_type": "code",
   "execution_count": 101,
   "id": "e0bb87ca-592a-4bb2-a01b-e71f10ab7898",
   "metadata": {},
   "outputs": [],
   "source": [
    "stop_words = set(stopwords.words('english'))\n"
   ]
  },
  {
   "cell_type": "code",
   "execution_count": 102,
   "id": "ee016900-5a53-44b9-b00a-1f58370f523f",
   "metadata": {},
   "outputs": [],
   "source": [
    "df.Key_Ingredients=[' '.join([word for word in x.split() if word not in stop_words]) for x in df.Key_Ingredients]"
   ]
  },
  {
   "cell_type": "markdown",
   "id": "4ff88bd5-0457-462d-8682-b3c314aa0e39",
   "metadata": {
    "jp-MarkdownHeadingCollapsed": true,
    "tags": []
   },
   "source": [
    "## 3.5. Handling the outliers"
   ]
  },
  {
   "cell_type": "code",
   "execution_count": 103,
   "id": "09563dd3-8c77-4568-8775-8f838857855e",
   "metadata": {},
   "outputs": [
    {
     "data": {
      "image/png": "[encoded data removed]",
      "text/plain": [
       "<Figure size 1000x600 with 1 Axes>"
      ]
     },
     "metadata": {},
     "output_type": "display_data"
    }
   ],
   "source": [
    "def plot_string_length_outliers(string_list):\n",
    "    # Calculate lengths of strings\n",
    "    lengths = [len(s) for s in string_list]\n",
    "\n",
    "    # Create a box plot\n",
    "    plt.figure(figsize=(10, 6))\n",
    "    sns.boxplot(data=lengths)\n",
    "\n",
    "    # Customizing the plot\n",
    "    plt.title('Box Plot of String Lengths')\n",
    "    plt.ylabel('Length of Strings')\n",
    "    plt.grid(axis='y', linestyle='--', alpha=0.7)\n",
    "    \n",
    "    # Show the plot\n",
    "    plt.show()\n",
    "\n",
    "# Call the function\n",
    "plot_string_length_outliers(df.Key_Ingredients)"
   ]
  },
  {
   "cell_type": "code",
   "execution_count": 104,
   "id": "4c8de4f5-36b0-4619-b368-c69038f8df36",
   "metadata": {
    "scrolled": true,
    "tags": []
   },
   "outputs": [
    {
     "data": {
      "text/plain": [
       "['cheeses served quince paste, seasonal chutney, grape, fruit loaf wafer, lavoshartisan extravagant, cow milk timboon, victoria bay fires cheddar, cow milk st helens, tasmania kris lloyd rusty cheese, cow milk adelaide hills, sa holy goat la luna, goat milk goldfields, victoria berrys creek riverine blue, buffalo milk gippsland, victoria',\n",
       " 'single roasted blended botany, sydney using highest quality beans world collider, blend brazilian, ethiopian , papua new guinean beans, always savoured ripe berry characteristics, hints spice , bittersweet chocolate finish',\n",
       " 'mbs family farm tablelands nsw perrys long history raising australias top wagyu served black garlic , chipotle butter requires minimum cooking time hours please note thursday saturday reservations item requires preorder pm',\n",
       " 'mbs family farm tablelands nsw perrys long history raising australias top wagyu served black garlic , chipotle butter requires minimum cooking time hours please note thursday saturday reservations item requires preorder pm']"
      ]
     },
     "execution_count": 104,
     "metadata": {},
     "output_type": "execute_result"
    }
   ],
   "source": [
    "[x for x in df.Key_Ingredients if len(x)>150]"
   ]
  },
  {
   "cell_type": "code",
   "execution_count": 111,
   "id": "e473c3b6-ba55-4cc8-9333-565bea873040",
   "metadata": {},
   "outputs": [
    {
     "data": {
      "text/plain": [
       "['', '', '', '', 'pp']"
      ]
     },
     "execution_count": 111,
     "metadata": {},
     "output_type": "execute_result"
    }
   ],
   "source": [
    "# Outliers\n",
    "[s for s in df.Key_Ingredients if len(s) <= 3]"
   ]
  },
  {
   "cell_type": "code",
   "execution_count": 115,
   "id": "23d2dff2-d6ec-4661-8b2a-0f36fa903ca5",
   "metadata": {},
   "outputs": [
    {
     "data": {
      "text/plain": [
       "['cheeses served quince paste, seasonal chutney, grape, fruit loaf wafer, lavoshartisan extravagant, cow milk timboon, victoria bay fires cheddar, cow milk st helens, tasmania kris lloyd rusty cheese, cow milk adelaide hills, sa holy goat la luna, goat milk goldfields, victoria berrys creek riverine blue, buffalo milk gippsland, victoria',\n",
       " 'single roasted blended botany, sydney using highest quality beans world collider, blend brazilian, ethiopian , papua new guinean beans, always savoured ripe berry characteristics, hints spice , bittersweet chocolate finish',\n",
       " 'mbs family farm tablelands nsw perrys long history raising australias top wagyu served black garlic , chipotle butter requires minimum cooking time hours please note thursday saturday reservations item requires preorder pm',\n",
       " 'mbs family farm tablelands nsw perrys long history raising australias top wagyu served black garlic , chipotle butter requires minimum cooking time hours please note thursday saturday reservations item requires preorder pm']"
      ]
     },
     "execution_count": 115,
     "metadata": {},
     "output_type": "execute_result"
    }
   ],
   "source": [
    "# Outliers\n",
    "[s for s in df.Key_Ingredients if len(s) >= 150]"
   ]
  },
  {
   "cell_type": "code",
   "execution_count": 116,
   "id": "72938146-9e39-4d18-8cca-5921250afa29",
   "metadata": {},
   "outputs": [],
   "source": [
    "df=df[(df['Key_Ingredients'].str.len() < 150) & (df['Key_Ingredients'].str.len() > 3)]\n"
   ]
  },
  {
   "cell_type": "code",
   "execution_count": null,
   "id": "3da9ac5b-4b04-436a-bb3a-32d3fdf51aaf",
   "metadata": {},
   "outputs": [],
   "source": []
  },
  {
   "cell_type": "code",
   "execution_count": 117,
   "id": "f62966c8-64ba-41c8-947d-4ebe53c2ddb5",
   "metadata": {},
   "outputs": [
    {
     "data": {
      "image/png": "[encoded data removed]",
      "text/plain": [
       "<Figure size 1000x600 with 1 Axes>"
      ]
     },
     "metadata": {},
     "output_type": "display_data"
    }
   ],
   "source": [
    "def plot_number_of_ingredients_outliers(ingredient_list):\n",
    "    # Calculate the number of ingredients by splitting the strings by commas\n",
    "    num_ingredients = [len(ingredients.split(',')) for ingredients in ingredient_list]\n",
    "\n",
    "    # Create a box plot\n",
    "    plt.figure(figsize=(10, 6))\n",
    "    sns.boxplot(data=num_ingredients)\n",
    "\n",
    "    # Customizing the plot\n",
    "    plt.title('Box Plot of Number of Ingredients')\n",
    "    plt.ylabel('Number of Ingredients')\n",
    "    plt.grid(axis='y', linestyle='--', alpha=0.7)\n",
    "    \n",
    "    # Show the plot\n",
    "    plt.show()\n",
    "\n",
    "# Call the function with the ingredient list\n",
    "plot_number_of_ingredients_outliers(df.Key_Ingredients)"
   ]
  },
  {
   "cell_type": "code",
   "execution_count": 118,
   "id": "67cf1204-66c4-4694-a5ef-7f7049b43b74",
   "metadata": {
    "scrolled": true,
    "tags": []
   },
   "outputs": [
    {
     "data": {
      "text/plain": [
       "[['month aged prosciutto',\n",
       "  ' salami',\n",
       "  ' double smoked ham',\n",
       "  ' mortadalla',\n",
       "  ' olives',\n",
       "  ' cheeses',\n",
       "  ' bread',\n",
       "  ' roasted vegetables ',\n",
       "  ' stuffed baby pepper'],\n",
       " ['san marzano tomato sauce',\n",
       "  ' fior di latte',\n",
       "  ' mushroom',\n",
       "  ' zucchini',\n",
       "  ' eggplant',\n",
       "  ' red pepper',\n",
       "  ' cherry tomato ',\n",
       "  ' oregano'],\n",
       " ['san marzano tomato sauce',\n",
       "  ' vegan cheese',\n",
       "  ' mushroom',\n",
       "  ' zucchini',\n",
       "  ' eggplant',\n",
       "  ' red pepper',\n",
       "  ' cherry tomato ',\n",
       "  ' oregano'],\n",
       " ['san marzano tomato sauce',\n",
       "  ' mild salami',\n",
       "  ' italian sausage',\n",
       "  ' bacon',\n",
       "  ' wood fired pepper',\n",
       "  ' olives',\n",
       "  ' mushrooms ',\n",
       "  ' fior di latte cheese'],\n",
       " ['tomato base',\n",
       "  ' chicken',\n",
       "  ' mushrooms',\n",
       "  ' olives',\n",
       "  ' onion',\n",
       "  ' wood fired pepper',\n",
       "  ' oregano ',\n",
       "  ' mozzarella'],\n",
       " ['tomato base',\n",
       "  ' mild salami',\n",
       "  ' bacon',\n",
       "  ' italian sausage',\n",
       "  ' wood fired pepper',\n",
       "  ' onion',\n",
       "  ' olives',\n",
       "  ' mushrooms ',\n",
       "  ' mozzarella'],\n",
       " ['month aged prosciutto',\n",
       "  ' salami',\n",
       "  ' double smoked ham',\n",
       "  ' mortadalla',\n",
       "  ' olives',\n",
       "  ' cheeses',\n",
       "  ' bread',\n",
       "  ' roasted vegetables ',\n",
       "  ' stuffed baby pepper'],\n",
       " ['san marzano tomato sauce',\n",
       "  ' fior di latte',\n",
       "  ' mushroom',\n",
       "  ' zucchini',\n",
       "  ' eggplant',\n",
       "  ' red pepper',\n",
       "  ' cherry tomato ',\n",
       "  ' oregano'],\n",
       " ['san marzano tomato sauce',\n",
       "  ' vegan cheese',\n",
       "  ' mushroom',\n",
       "  ' zucchini',\n",
       "  ' eggplant',\n",
       "  ' red pepper',\n",
       "  ' cherry tomato ',\n",
       "  ' oregano'],\n",
       " ['san marzano tomato sauce',\n",
       "  ' mild salami',\n",
       "  ' italian sausage',\n",
       "  ' bacon',\n",
       "  ' wood fired pepper',\n",
       "  ' olives',\n",
       "  ' mushrooms ',\n",
       "  ' fior di latte cheese'],\n",
       " ['tomato base',\n",
       "  ' chicken',\n",
       "  ' mushrooms',\n",
       "  ' olives',\n",
       "  ' onion',\n",
       "  ' wood fired pepper',\n",
       "  ' oregano ',\n",
       "  ' mozzarella'],\n",
       " ['tomato base',\n",
       "  ' mild salami',\n",
       "  ' bacon',\n",
       "  ' italian sausage',\n",
       "  ' wood fired pepper',\n",
       "  ' onion',\n",
       "  ' olives',\n",
       "  ' mushrooms ',\n",
       "  ' mozzarella']]"
      ]
     },
     "execution_count": 118,
     "metadata": {},
     "output_type": "execute_result"
    }
   ],
   "source": [
    "[x.split(',') for x in df.Key_Ingredients if len(x.split(','))>7]"
   ]
  },
  {
   "cell_type": "code",
   "execution_count": 119,
   "id": "ad8a293f-ff56-49d5-9aaa-1fc12151f3ea",
   "metadata": {
    "scrolled": true,
    "tags": []
   },
   "outputs": [
    {
     "data": {
      "text/plain": [
       "[['tower'],\n",
       " ['serving ice cold delicacies'],\n",
       " ['assortment grilled lamb cuts'],\n",
       " ['grass fed house patty'],\n",
       " ['zucchini flower gooseberry hot sauce'],\n",
       " ['house mignonette'],\n",
       " ['selection fresh market seafood'],\n",
       " ['sauce américaine'],\n",
       " ['mbs sauce bordelaise'],\n",
       " ['per grams'],\n",
       " ['per piece'],\n",
       " ['la diabla sauce'],\n",
       " ['pp milled onsite heritage grains gunnedah'],\n",
       " ['stracchino cheese thin layers olive oil bread'],\n",
       " ['mozzarella pocket filled cows milk cream'],\n",
       " ['thin strands hand pulled mozzarella'],\n",
       " ['ea whipped ricotta charred bread'],\n",
       " ['thin strands angel hair egg dough'],\n",
       " ['hand pressed seashell shaped pasta'],\n",
       " ['café de olla pot coffee ice cream'],\n",
       " ['café de olla pot coffee ice cream'],\n",
       " ['loligo baby calamari served homemade lemon aioli'],\n",
       " ['mix berries coulis'],\n",
       " ['grated dark chocolate'],\n",
       " ['seasonal roasted vegetables served lemon butter sauce'],\n",
       " ['spaghetti slow cooked beef mince san marzano napolitana sugo basil'],\n",
       " ['rich red cabernet napolitano garlic sauce'],\n",
       " ['chimichurri'],\n",
       " ['salsa macha'],\n",
       " ['loligo baby calamari served homemade lemon aioli'],\n",
       " ['mix berries coulis'],\n",
       " ['grated dark chocolate'],\n",
       " ['seasonal roasted vegetables served lemon butter sauce'],\n",
       " ['spaghetti slow cooked beef mince san marzano napolitana sugo basil'],\n",
       " ['rich red cabernet napolitano garlic sauce'],\n",
       " ['gruyère soufflé'],\n",
       " ['madeira jus'],\n",
       " ['selection cured sausages'],\n",
       " ['whole oven roasted fish day'],\n",
       " ['seasonal buttered greens'],\n",
       " ['french fries'],\n",
       " ['soft herbs'],\n",
       " ['tobacco leaves'],\n",
       " ['tobacco leaves'],\n",
       " ['tobacco leaves'],\n",
       " ['tobacco leaves'],\n",
       " ['tobacco leaves'],\n",
       " ['tobacco leaves'],\n",
       " ['glera grapes'],\n",
       " ['glera grapes'],\n",
       " ['chardonnay grapes'],\n",
       " ['muscat grapes'],\n",
       " ['blue agave'],\n",
       " ['blue agave'],\n",
       " ['blue agave'],\n",
       " ['blue agave'],\n",
       " ['blue agave'],\n",
       " ['blue agave'],\n",
       " ['blue agave'],\n",
       " ['blue agave'],\n",
       " ['blue agave'],\n",
       " ['cinnamon whiskey'],\n",
       " ['sugarcane'],\n",
       " ['cinnamon whiskey'],\n",
       " ['cinnamon whiskey'],\n",
       " ['tobacco leaves'],\n",
       " ['tobacco leaves'],\n",
       " ['tobacco leaves'],\n",
       " ['tobacco leaves'],\n",
       " ['tobacco leaves'],\n",
       " ['tobacco leaves'],\n",
       " ['sparkling water'],\n",
       " ['still water'],\n",
       " ['bacon'],\n",
       " ['various seasonal greens'],\n",
       " ['watermelon'],\n",
       " ['silken tofu'],\n",
       " ['various seasonal greens'],\n",
       " ['various seasonal greens'],\n",
       " ['watermelon'],\n",
       " ['julio tequila'],\n",
       " ['aloe vera'],\n",
       " ['watermelon'],\n",
       " ['silken tofu'],\n",
       " ['cocktail ingredients varies'],\n",
       " ['nebbiolo grapes'],\n",
       " ['shiraz grapes'],\n",
       " ['amaro'],\n",
       " ['pyengana cheddar cheese'],\n",
       " ['lillypilly wine'],\n",
       " ['lillypilly wine'],\n",
       " ['pistachios'],\n",
       " ['mixed leaf salad'],\n",
       " ['mixed leaf salad'],\n",
       " ['oscietra caviar'],\n",
       " ['kaluga caviar'],\n",
       " ['honey'],\n",
       " ['prune flan'],\n",
       " ['layered cake'],\n",
       " ['olives'],\n",
       " ['prosciutto'],\n",
       " ['white beans'],\n",
       " ['sydney rock oysters'],\n",
       " ['prawns'],\n",
       " ['crab'],\n",
       " ['moreton bay bug']]"
      ]
     },
     "execution_count": 119,
     "metadata": {},
     "output_type": "execute_result"
    }
   ],
   "source": [
    "[x.split(',') for x in df.Key_Ingredients if len(x.split(','))<2]"
   ]
  },
  {
   "cell_type": "code",
   "execution_count": null,
   "id": "8c337b5b-fdea-4151-8bb7-73288b355408",
   "metadata": {},
   "outputs": [],
   "source": []
  },
  {
   "cell_type": "markdown",
   "id": "644f7ade-a68e-45d5-af51-71ed67e92a9c",
   "metadata": {
    "jp-MarkdownHeadingCollapsed": true,
    "tags": []
   },
   "source": [
    "# 4. Restaurant - Ingredients Mapping"
   ]
  },
  {
   "cell_type": "code",
   "execution_count": 130,
   "id": "98feb13e-eaa3-420d-9195-d7b4c2763e11",
   "metadata": {
    "scrolled": true,
    "tags": []
   },
   "outputs": [
    {
     "name": "stdout",
     "output_type": "stream",
     "text": [
      "6HEAD Sydney: {'vg fresh cherry tomatoes': 1, 'basil onion served woodfired vienna bread': 1, 'v crispy': 1, 'fried sicilian balls rice made vegetables': 1, 'provolone ': 1, 'buffalo mozzarella cheese served arrabbiata sauce': 1, 'v fresh ricotta cheese': 1, 'sundried tomato ': 1, 'homemade lemon aioli': 1, 'loligo baby calamari served homemade lemon aioli': 1, 'san marzano napolitana ': 1, 'garlic sauce': 1, 'beetroot infused salmon carpaccio served rocket ': 1, 'capers salad evoo green lemon vinaigrette': 1, 'three cheese': 1, 'roasted capsicum ': 1, 'chilli dip': 1, 'month aged prosciutto': 1, 'salami': 1, 'double smoked ham': 2, 'mortadalla': 1, 'olives': 7, 'cheeses': 1, 'bread': 1, 'roasted vegetables ': 1, 'stuffed baby pepper': 1, 'v': 2, 'fresh mixed lettuce': 2, 'cucumber': 2, 'cherry tomatoes': 3, 'red onion': 2, 'mixed olives red wine vinegar ': 1, 'evoo': 2, 'local giant king prawns bed mixed leaf salad avocado': 1, 'cucumber ': 1, 'orange vinaigrette': 1, 'vine ripened tomato': 1, 'fresh italian buffalo mozzarella': 1, 'basil leaves': 1, 'san marzano tomato sauce': 13, 'prawns': 4, 'chorizo': 1, 'calabrian chilli ': 1, 'fior di latte cheese': 7, 'fior de latte': 1, 'homemade chilli salami': 1, 'bocconcini': 1, 'fresh basil ': 1, 'oregano': 4, 'extra virgin olive oil ': 1, 'crushed garlic': 1, 'extra virgin olive oil': 2, 'garlic ': 2, 'touch fior di latte cheese': 1, 'basil ': 2, 'fior di latte cheese evoo': 1, 'fior di latte': 1, 'mushroom': 2, 'zucchini': 2, 'eggplant': 3, 'red pepper': 2, 'cherry tomato ': 2, 'vegan cheese': 1, 'mild salami': 6, 'italian sausage': 6, 'mushrooms': 8, 'olives ': 5, 'hot salami': 2, 'wood fired pepper': 8, 'fior di latte ': 2, 'ricotta cheese': 2, 'ham': 2, 'artichokes': 3, 'prosciutto': 1, 'wild rocket': 1, 'shaved parmesan cheese': 1, 'calamari': 2, 'baby octopus': 2, 'garlic': 2, 'chili ': 2, 'oregano ': 3, 'chicken': 2, 'onion': 4, 'bacon': 2, 'mushrooms ': 2, 'mix berries coulis': 1, 'vanilla icecream ': 1, 'red wine sauce': 1, 'grated dark chocolate': 1, 'chocolate chips ': 1, 'whipped cream': 1, 'vanilla icecream': 3, 'espresso coffee ': 1, 'frangelico': 1, 'served strawberries ': 1, 'dusted icing sugar': 1, 'served caramelised apple ': 1, 'sprinkl mozzarella': 1, 'tomato base': 10, 'mozzarella': 8, 'mozzarella ': 1, 'served shaved': 1, 'prosciutto,wild rocket,parmesan': 1, 'smoked ham': 1, 'hours braised red wine sauce served mash': 1, 'potato ': 1, 'sweet potato crisps': 1, 'gmriverina angus sirloin steak served caramelized baby onion': 1, 'truffle mashed potato mushroom sauce': 1, 'gmgippsland victorian angus steak tenderloin rosemary chat potatoes': 1, 'broccolini mushroom sauce': 2, 'hand crumbed chicken breast topped smoked ham': 1, 'grilled eggplant': 1, 'napolitana sauce ': 1, 'provolone cheese served mash potato': 1, 'marinated chargrilled chicken breast creamy mushed potato': 1, 'lightly seasoned calamari served chips': 1, 'salad': 1, 'lemon ': 1, 'aioli': 1, 'seasonal roasted vegetables served lemon butter sauce': 1, 'basil san marzano napolitano sugo': 1, 'tagliatelle wit local tiger prawns': 1, 'basil': 1, 'chili san marzano napolitana sugo': 1, 'spaghetti slow cooked beef mince san marzano napolitana sugo basil': 1, 'pappardelle slow cooked lamb rich napolitana sauce ': 1, 'red wine': 1, 'linguine local tiger prawns': 1, 'lime': 1, 'chili': 1, 'blister cherry tomatoes': 1, 'rocket ricotta cheese': 1, 'mussels': 2, 'calamari vongole touch chili garlic butter light san marzano napolitano sauce': 1, 'sydney tiger prawns': 1, 'scallop tender calamari rich red napolitana sauce aged parmesan': 1, 'mixed olives red wine vinegar evoo': 1, 'fresh ricotta cheese': 1, 'sundried tomato': 1, 'italian herbs touch chili': 1, 'crispy': 1, 'fried sicilian balls rice vegetable': 1, 'provolone parmesan cheese served arrabbiata sauce': 1, 'rich red cabernet napolitano garlic sauce': 1}\n",
      "BISTECCA: {'per grams': 1, 'per piece': 1, 'vanilla bay leaf panna cotta': 1, 'poached pear': 1, 'brutti e buoni': 1, 'finish traditional way glass vibrant golden wine sweet spicy aroma': 1, 'crunchy almond based biscuit': 1, 'w apple ': 2, 'fennel mustard': 2, 'croutons': 2, 'burrata cheese': 1, 'caponata': 1, 'pine nuts': 2, 'witlof': 1, 'pizza dough': 1, 'ricotta cheese': 1, 'roasted garlic': 1, 'ricotta gnocchi': 1, 'walnuts': 2, 'shimeji mushrooms': 1, 'bocconcini': 1, 'rocket': 1, 'parmesan cheese': 1, 'radicchio': 2, 'feta cheese': 1, 'grapes': 1, 'leeks': 1, 'celeriac': 1, 'black garlic': 1, 'cauliflower': 1, 'cashews': 1, 'gremolata': 1, 'white beans': 1, 'brussels sprouts': 1, 'pecorino cheese': 2, 'sour cream': 1, 'green beans': 1, 'tomatoes': 1, 'anchovies': 1, 'garlic': 1, 'almonds': 1, 'potatoes': 1, 'tomato sauce': 1, 'capers': 1, 'polenta': 1, 'sage': 1, 'cabbage': 1, 'jerusalem artichokes': 1, 'breadcrumbs': 1, 'herbs': 1, 'coffee': 2, 'mascarpone cheese': 1, 'cocoa': 1, 'ladyfingers': 1, 'ice cream': 1, 'sydney rock oysters': 1, 'prawns': 1, 'crab': 1, 'moreton bay bug': 1}\n",
      "Bopp & Tone: {'oysters': 2, 'lemon': 5, 'mignonette sauce': 1, 'raw beef': 2, 'egg yolk': 2, 'capers': 2, 'onions': 1, 'mustard': 2, 'squid': 1, 'olive oil': 7, 'herbs': 10, 'bay lobster': 1, 'garlic': 3, 'butter': 1, 'fish fillet': 1, 'seasoning': 6, 'angus beef': 1, 'wagyu beef': 3, 'ribeye steak': 1, 'potatoes': 2, 'salt': 3, 'cream': 1, 'sugar': 2, 'eggs': 2, 'tonka bean': 1, 'blueberries': 1, 'coffee': 1, 'ice cream': 1, 'zucchini flowers': 1, 'ricotta': 1, 'heirloom tomatoes': 1, 'basil': 1, 'king prawns': 1, 'calamari': 2, 'flour': 1, 'scallops': 2, 'asparagus': 1, 'pork': 1, 'soy sauce': 1, 'mixed greens': 1, 'vinaigrette': 1, 'olives': 3, 'sourdough bread': 1, 'verjus': 1, 'shallots': 1, 'ponzu': 1, 'cucumber': 1, 'horseradish': 1, 'seaweed': 1, 'romaine lettuce': 1, 'anchovies': 1, 'bacon': 2, 'croutons': 1, 'parmesan': 1, 'cornichons': 1, 'fries': 1, 'burrata cheese': 1, 'peas': 1, 'pistachios': 1, 'chilli': 1, 'mint': 1, 'rocket': 1, 'aioli': 1, 'tomato sauce': 1, 'pappardelle': 1, 'grana padano': 1, 'tomato': 1, 'lettuce': 1, 'onion': 1, 'pickles': 1, 'burger sauce': 1, 'oil': 1, 'prosciutto': 1, 'pecorino cheese': 1, 'truffle honey': 1, 'octopus': 1, 'oregano': 1}\n",
      "Cafe Sydney: {'oysters': 1, 'crab': 1, 'moreton bay bug': 1, 'scampi': 1, 'prawns': 1, 'marron': 1, 'burrata cheese': 1, 'heirloom tomatoes': 1, 'cucumber': 2, 'shallot': 1, 'mustard seeds': 1, 'seaweed': 1, 'goat cheese': 1, 'porcini mushrooms': 1, 'shimeji mushrooms': 1, 'parsley': 1, 'watercress': 1, 'octopus': 1, 'tomatoes': 2, 'olives': 1, 'hummus': 1, 'sourdough': 1, 'salmon': 2, 'coriander': 1, 'chilli': 1, 'blood orange': 1, 'radish': 1, 'lemon gel': 1, 'quail': 1, 'bacon': 1, 'chermoula': 1, 'spring onion': 1, 'tapioca': 1, 'yoghurt': 2, 'black angus beef': 1, 'mustard': 2, 'aioli': 1, 'witlof': 1, 'caperberries': 1, 'horseradish': 1, 'kingfish': 1, 'buttermilk': 1, 'avocado': 1, 'asparagus': 2, 'leeks': 1, 'peas': 2, 'mint oil': 1, 'scallops': 1, 'jalapeno': 1, 'soy sauce': 1, 'spring onions': 1, 'fennel frond': 1, 'roe': 1, 'ricotta cavatelli': 1, 'corn': 1, 'gremolata': 1, 'parmesan cheese': 1, 'basil': 1, 'barramundi': 1, 'kohlrabi': 1, 'mushroom velouté': 1, 'pork belly': 1, 'fregola': 1, 'smoked tomatoes': 1, 'garlic': 1, 'salsa verde': 1, 'spinach': 2, 'chickpeas': 2, 'mint': 1, 'swordfish': 1, 'squid': 1, 'capsicum': 1, 'sauce': 1, 'snapper': 1, 'prawn mousse': 1, 'zucchini flowers': 1, 'cream': 3, 'lemon butter': 1, 'lamb': 1, 'goat curd': 1, 'broad beans': 1, 'anchovies': 1, 'duck': 1, 'parsnips': 1, 'beetroot': 1, 'cherries': 1, 'sesame': 1, 'pork': 1, 'cider': 1, 'cabbage': 1, 'potatoes': 1, 'beef': 1, 'mushrooms': 2, 'puff pastry': 1, 'lamb shank': 1, 'cumin': 1, 'spices': 1, 'green vegetables': 1, 'olive oil': 1, 'sea salt': 1, 'truffle': 1, 'arborio rice': 1, 'chocolate': 1, 'eggs': 1, 'butter': 1, 'flour': 1, 'sugar': 2, 'pastry': 1, 'chocolate sauce': 1, 'vanilla': 1, 'berries': 1}\n",
      "Clam Bar: {'tower': 1, 'coconut blini ': 3, 'crème fraîche': 3, 'sydney rock oysters': 3, 'ginger minonette': 1, 'cocktail sauce': 1, 'nước chấm': 1, 'lemongrass chipolitas': 1, 'parsley ': 1, 'garlic crumb': 1, 'blanched asparagus': 1, 'aioli ': 1, 'parmesan': 6, 'cured snapper avocado': 1, 'cucumber ': 1, 'aguachile': 1, 'yellowfin tuna': 1, 'truffle': 1, 'egg yolk': 1, 'koshihikari rice': 1, 'poached tiger prawns': 1, 'old bay mayo': 1, 'serving ice cold delicacies': 1, 'pasta': 1, 'chilli': 1, 'garlic': 8, 'white wine ': 1, 'clams': 3, 'fish day': 1, 'choice sauce': 1, 'assortment grilled lamb cuts': 1, 'grass fed house patty': 1, 'sourdough': 1, 'seaweed ': 1, 'sesame butter': 1, 'tin ortiz anchovy': 1, 'cultured butter': 1, 'grilled toast': 1, 'rump cap': 1, 'classic condiments': 1, 'anchovy': 2, 'beef fat potatoes': 1, 'grilled half shell scallops': 1, 'garlic ': 1, 'chilli butter': 1, 'zucchini flower gooseberry hot sauce': 1, 'oysters': 2, 'lemon': 4, 'salt': 7, 'spinach': 3, 'butter': 8, 'asparagus': 1, 'egg': 2, 'olive oil': 9, 'prawns': 1, 'lettuce': 2, 'sauce': 1, 'snapper': 1, 'citrus': 1, 'chili': 2, 'herbs': 4, 'tuna': 1, 'soy': 1, 'sesame': 1, 'avocado': 1, 'romaine': 3, 'anchovies': 3, 'croutons': 3, 'scallops': 1, 'bacon': 4, 'breadcrumbs': 2, 'parsley': 1, 'bread': 2, 'beef': 7, 'capers': 1, 'mustard': 1, 'onion': 1, 'pastry': 1, 'cheese': 1, 'fries': 1, 'spaghetti': 1, 'white wine': 1, 'lamb': 1, 'rosemary': 1, 'fish': 1, 'bonein': 1, 'seasoning': 7, 'corn': 2, 'gruyere cheese': 2, 'cream': 6, 'macaroni': 2, 'vodka': 2, 'tomatoes': 4, 'cabbage': 2, 'bbq sauce': 2, 'peas': 2, 'potatoes': 4, 'beef fat': 2, 'basil': 2, 'vinegar': 2, 'crab': 1, 'tomato sauce': 1, 'nutmeg': 1, 'onions': 1, 'mint': 1, 'sugar': 1, 'oil': 1, 'pepper': 1, 'mixed greens': 1, 'cucumber': 1, 'vinaigrette': 1}\n",
      "Elements Bar and Grill Walsh Bay: {'tobacco leaves': 12, 'glera grapes': 2, 'chardonnay grapes': 1, 'chardonnay': 1, 'pinot noir': 1, 'pinot meunier grapes': 1, 'rosé wine': 2, 'fruit juices': 1, 'sugar': 24, 'muscat grapes': 1, 'water': 57, 'malted barley': 5, 'hops': 5, 'yeast': 47, 'beer': 1, 'lemonade': 1, 'corn': 7, 'barley': 36, 'rye': 7, 'sugarcane molasses': 6, 'juniper berries': 7, 'botanicals': 7, 'grain alcohol': 7, 'blue agave': 9, 'grains': 9, 'cinnamon whiskey': 3, 'whiskey': 2, 'energy drink': 1, 'vodka': 11, 'triple sec': 2, 'lime juice': 1, 'lemon zest': 2, 'alcohol': 26, 'scotch whisky': 1, 'honey': 1, 'herbs': 4, 'citrus': 6, 'vanilla': 10, 'caramel': 1, 'sugarcane': 1, 'peach': 2, 'butterscotch schnapps': 1, 'irish cream liqueur': 1, 'black raspberry liqueur': 1, 'malbec grapes': 1, 'irish whiskey': 1, 'cream': 1, 'cocoa': 2, 'coffee': 1, 'milk': 2, 'orange peel': 3, 'bitter orange': 2, 'hazelnuts': 1, 'cognac': 1, 'passionfruit': 4, 'cherry': 1, 'coffee liqueur': 3, 'rum': 16, 'coconut': 3, 'melon': 1, 'bitter herbs': 3, 'herbal liqueur': 1, 'almonds': 1, 'anise': 1, 'licorice': 1, 'grapes': 1, 'white wine': 1, 'fortified wine': 1, 'espresso': 1, 'lime': 22, 'lychee liqueur': 1, 'tequila': 4, 'orange liqueur': 2, 'salt': 2, 'agave syrup': 1, 'chili': 1, 'mint': 10, 'mango': 1, 'lychee': 2, 'strawberry': 2, 'watermelon': 2, 'gin': 5, 'vermouth': 2, 'campari': 1, 'cola': 1, 'lemon': 3, 'cranberry juice': 1, 'melon liqueur': 1, 'pineapple juice': 1, 'amaretto': 1, 'lemon juice': 2, 'aperol': 1, 'prosecco': 1, 'soda water': 1, 'almond syrup': 2, 'pineapple': 3, 'coconut cream': 1, 'kiwi': 1, 'apple': 1, 'peanut butter': 1, 'jelly': 1, 'ice cream': 1, 'spices': 4, 'soda': 4, 'tropical fruits': 1, 'red wine': 1, 'bitters': 1, 'sparkling water': 1, 'still water': 1, 'lemon twist': 1, 'olive brine': 1, 'olives': 1, 'bread': 1, 'kelp butter': 1}\n",
      "Esteban: {'corn totopos': 1, 'salsa macha oil': 1, 'lime': 3, 'cilantro': 3, 'chilli': 1, 'onion': 2, 'crisp yellow corn shell': 1, 'egg jam': 1, 'mountain pepper leaf': 1, 'papas al hilo': 1, 'smoked bean purée': 1, 'avocado': 1, 'mahon cheese': 1, 'roasted eggplant v': 1, 'leche de tigre': 1, 'karkalla': 1, 'plantain frito': 1, 'adobo marinated pork': 1, 'tomatillo salsa': 2, 'roasted piña': 1, 'hand made corn tortilla': 2, 'tomatillo': 1, 'salsa mexicana': 1, 'mole de mar': 1, 'bottarga': 1, 'salsa verde': 1, 'chorizo chipotle butter': 1, 'cactus': 1, 'chochoyotes': 1, 'pickled watermelon radish': 1, 'baby onions': 1, 'salsa tatemada': 1, 'crispy shallot': 1, 'chayote squash': 1, 'yellow squash': 1, 'radicchio': 1, 'mole verde': 1, 'toasted sunflower seed vinaigrette n': 1, 'pipian rojo': 1, 'grilled chard': 1, 'spiced pepita crumb': 1, 'sherry glaze': 1, 'tinga sauce': 1, 'grilled spring onion': 1, 'mote': 1, 'fresh market fish': 1, 'cabbage purée': 1, 'charred salsa verde': 1, 'consommé': 1, 'pickled chilli': 1, 'black garlic ': 1, 'chipotle butter': 1, 'spiced labneh': 1, 'toasted almond': 1, 'chilli oil n': 1, 'smoked kipflers': 1, 'roasted jalapeño crema': 1, 'pistachio crema': 1, 'toasted pistachio': 1, 'chive n': 1, 'salsa pasilla': 1, 'salsa picante': 1, 'burnt onion': 1, 'coconut mousse': 1, 'pineapple sorbet': 1, 'granita': 1, 'charred pineapple rum salsa': 1, 'café de olla pot coffee ice cream': 1, 'chocolate mousse': 1, 'chilli chocolate ice cream caramelised white chocolate': 1}\n",
      "Grana: {'pp milled onsite heritage grains gunnedah': 1, 'stracchino cheese thin layers olive oil bread': 1, 'mozzarella pocket filled cows milk cream': 1, 'thin strands hand pulled mozzarella': 1, 'ea whipped ricotta charred bread': 1, 'thin strands angel hair egg dough': 1, 'hand folded ': 1, 'filled ravioli': 1, 'hand pressed seashell shaped pasta': 1, 'short': 2, 'ruffled shaped edges': 1, 'saffron infused pasta': 1, 'wide tubes pasta': 1}\n",
      "Mejico Restaurant: {'lime chilli': 1, 'lime juice': 1, 'plantain chips signature dish': 1, 'tatemada': 1, 'tomatillo macha': 1, 'corn chips': 1, 'chipotle lime': 1, 'pecorino': 1, 'popcorn': 1, 'kombu cream cheese': 1, 'habanero gel': 1, 'chimichurri': 1, 'aji amarillo': 1, 'puffed rice': 1, 'jicama': 1, 'cucumber signature dish': 1, 'tomatillo': 1, 'green apple': 1, 'pea shoot': 1, 'yellow fin': 1, 'sesame': 1, 'soy': 1, 'fingerlime': 1, 'mandarin': 1, 'habanero kosho': 1, 'pineapple salsa': 1, 'guacachile': 1, 'apricot chamoy': 1, 'pico de gallo': 1, 'lime crema': 1, 'burnt jalapeno salsa': 1, 'caper salsa': 1, 'fennel': 1, 'tajin salt': 1, 'avocado aioli': 1, 'white onion': 1, 'coriander': 1, 'gremolata': 1, 'yellow mole signature dish': 1, 'mole poblano': 1, 'lentil salad': 1, 'smoked macadamia ricotta': 1, 'pistachio dukkha': 2, 'vera cruz salsa': 1, 'caper': 1, 'guajillo puree ': 1, 'jus': 1, 'asparagus': 1, 'agave compressed': 1, 'arbol mayo': 1, 'cumin salt': 1, 'salsa macha': 1, 'jalapeño crema': 1, 'puffed wild rice': 1, 'signature dish pistachio tostada': 1, 'coconut': 1, 'tequila': 1, 'cinnamon sugar': 1, 'dulce de leche': 1, 'white chocolate crumb': 1, 'triple sec caramel': 1, 'coconut ': 1, 'lime sorbet': 1}\n",
      "MuMu: {'rock oysters': 1, 'lemon': 14, 'mignonette sauce': 1, 'prawns': 5, 'betel leaves': 1, 'spices': 4, 'lime': 2, 'scallops': 1, 'sushi rice': 1, 'nori': 1, 'abalone': 1, 'garlic': 16, 'butter': 5, 'herbs': 15, 'salmon': 2, 'olive oil': 7, 'snapper': 2, 'crispy rice': 2, 'vegetables': 14, 'dressing': 2, 'angus beef': 2, 'egg yolk': 3, 'capers': 3, 'onions': 3, 'wonton wrappers': 1, 'ginger': 2, 'eggplant': 2, 'flour': 8, 'breadcrumbs': 2, 'oil': 13, 'pork': 2, 'sweet sour sauce': 1, 'calamari': 2, 'parsley': 3, 'beef': 2, 'lemongrass': 1, 'noodles': 2, 'chicken': 7, 'honey': 1, 'soy sauce': 6, 'lamb cutlets': 3, 'angus beef short rib': 2, 'seasoning': 8, 'mushrooms': 1, 'tofu': 3, 'rice': 6, 'broth': 2, 'chili': 6, 'shrimp paste': 3, 'brisket': 1, 'rice noodles': 2, 'egg noodles': 2, 'king prawns': 3, 'flathead fish': 1, 'curry paste': 1, 'coconut milk': 1, 'various chilies': 1, 'vinegar': 3, 'salt': 5, 'brussels sprouts': 1, 'pepper': 1, 'cucumber': 2, 'sugar': 5, 'cilantro': 2, 'mint': 2, 'basil': 2, 'chives': 2, 'various seasonal greens': 3, 'water': 1, 'watermelon': 3, 'shaved ice': 2, 'fruits': 2, 'evaporated milk': 2, 'leche flan': 2, 'cake': 2, 'pandan': 2, 'three milks': 2, 'whipped cream': 2, 'durian': 2, 'cream': 2, 'silken tofu': 2, 'pipis': 2, 'murray cod': 2, 'rendang spices': 2, 'skewers': 2, 'pork knuckle': 2, 'duck': 1, 'tequila': 2, 'lime juice': 2, 'julio tequila': 2, 'agave syrup': 2, 'toothfish': 1, 'tamarind': 1, 'rib eye': 1, 'rock lobster': 1, 'chili sauce': 1, 'yuzu juice': 1, 'soda water': 2, 'tea': 1, 'aloe vera': 1, 'various spirits': 1, 'flavors': 1, 'lamb': 1, 'pastry': 1, 'lobster': 1, 'cocktail ingredients varies': 1, 'gin': 1, 'lemon juice': 1, 'tonic water': 1, 'elderflower': 1, 'bourbon': 1, 'sweet vermouth': 1, 'orange bitters': 1, 'whisky': 1, 'sambal': 1}\n",
      "Palazzo Salato: {'dark chocolate': 1, 'butter': 2, 'cream': 1, 'salt': 2, 'pastry crust': 1, 'flat iron steak': 1, 'herbs': 2, 'mixed salad greens': 1, 'dressing': 1, 'sydney rock oysters': 2, 'vermouth': 1, 'jelly': 1, 'wagyu bresaola': 1, 'grissini': 2, 'mafaldine pasta': 1, 'spanner crab': 1, 'uni butter': 1, 'chili': 2, 'sea blight': 1, 'nebbiolo grapes': 1, 'shiraz grapes': 1, 'amaro': 1, 'vermouth jelly': 1, 'natural': 1, 'stracciatella cheese': 1, 'anchovies': 2, 'iberico ham': 1, 'yellowfin tuna': 1, 'olive oil': 2, 'citrus': 1, 'stracciatella': 1, 'pangrattato': 1, 'raw vegetables': 1, 'ricotta': 1, 'ham': 1, 'hot sauce': 1, 'focaccia': 2, 'tri tip beef': 1, 'black garlic': 1, 'white garlic': 1, 'wasabi oil': 1, 'tripe': 1, 'sauce': 1, 'artichokes': 1, 'pesto': 1, 'marron': 1, 'garlic': 1, 'grappa': 1, 'scarpinocc pasta': 1, 'reggiano cheese': 1, 'balsamic vinegar': 1, 'spaghetti': 1, 'bottarga': 1, 'egg yolk': 1, 'trottola pasta': 1, 'tomato sauce': 1, 'guanciale': 1, 'pecorino': 1, 'blue eye trevalla': 1, 'jerusalem artichoke': 1, 'salsa verde': 1, 'fish day': 1, 'hazelnuts': 1, 'capers': 1, 'preserved lemon': 1, 'spatchcock chicken': 1, 'white beans': 1, 'rib eye beef': 1, 'seasoning': 1, 'potatoes': 1, 'andean spices': 1, 'cavolo nero': 1, 'chickpeas': 1, 'fermented chili': 1, 'cucumbers': 1, 'buttermilk dressing': 1, 'eggplant': 1, 'tomato': 1, 'celery': 1, 'olives': 1, 'pear': 1, 'moscato': 1, 'cantucci': 1, 'yogurt sorbet': 1, 'assorted cheeses': 1, 'tomato jam': 1, 'pyengana cheddar cheese': 1, 'semisoft cheese': 1, 'sheeps milk': 1, 'blue cheese': 1, 'cows milk': 1}\n",
      "Primi Italian: {'vg fresh cherry tomatoes': 1, 'basil onion served woodfired vienna bread': 1, 'v crispy': 1, 'fried sicilian balls rice made vegetables': 1, 'provolone ': 1, 'buffalo mozzarella cheese served arrabbiata sauce': 1, 'v fresh ricotta cheese': 1, 'sundried tomato ': 1, 'homemade lemon aioli': 1, 'loligo baby calamari served homemade lemon aioli': 1, 'san marzano napolitana ': 1, 'garlic sauce': 1, 'beetroot infused salmon carpaccio served rocket ': 1, 'capers salad evoo green lemon vinaigrette': 1, 'three cheese': 1, 'roasted capsicum ': 1, 'chilli dip': 1, 'month aged prosciutto': 1, 'salami': 1, 'double smoked ham': 2, 'mortadalla': 1, 'olives': 7, 'cheeses': 1, 'bread': 1, 'roasted vegetables ': 1, 'stuffed baby pepper': 1, 'v': 2, 'fresh mixed lettuce': 2, 'cucumber': 2, 'cherry tomatoes': 3, 'red onion': 2, 'mixed olives red wine vinegar ': 1, 'evoo': 2, 'local giant king prawns bed mixed leaf salad avocado': 1, 'cucumber ': 1, 'orange vinaigrette': 1, 'vine ripened tomato': 1, 'fresh italian buffalo mozzarella': 1, 'basil leaves': 1, 'san marzano tomato sauce': 13, 'prawns': 4, 'chorizo': 1, 'calabrian chilli ': 1, 'fior di latte cheese': 7, 'fior de latte': 1, 'homemade chilli salami': 1, 'bocconcini': 1, 'fresh basil ': 1, 'oregano': 4, 'extra virgin olive oil ': 1, 'crushed garlic': 1, 'extra virgin olive oil': 2, 'garlic ': 2, 'touch fior di latte cheese': 1, 'basil ': 2, 'fior di latte cheese evoo': 1, 'fior di latte': 1, 'mushroom': 2, 'zucchini': 2, 'eggplant': 3, 'red pepper': 2, 'cherry tomato ': 2, 'vegan cheese': 1, 'mild salami': 6, 'italian sausage': 6, 'mushrooms': 8, 'olives ': 5, 'hot salami': 2, 'wood fired pepper': 8, 'fior di latte ': 2, 'ricotta cheese': 2, 'ham': 2, 'artichokes': 3, 'prosciutto': 1, 'wild rocket': 1, 'shaved parmesan cheese': 1, 'calamari': 2, 'baby octopus': 2, 'garlic': 2, 'chili ': 2, 'oregano ': 3, 'chicken': 2, 'onion': 4, 'bacon': 2, 'mushrooms ': 2, 'mix berries coulis': 1, 'vanilla icecream ': 1, 'red wine sauce': 1, 'grated dark chocolate': 1, 'chocolate chips ': 1, 'whipped cream': 1, 'vanilla icecream': 3, 'espresso coffee ': 1, 'frangelico': 1, 'served strawberries ': 1, 'dusted icing sugar': 1, 'served caramelised apple ': 1, 'sprinkl mozzarella': 1, 'tomato base': 10, 'mozzarella': 8, 'mozzarella ': 1, 'served shaved': 1, 'prosciutto,wild rocket,parmesan': 1, 'smoked ham': 1, 'hours braised red wine sauce served mash': 1, 'potato ': 1, 'sweet potato crisps': 1, 'gmriverina angus sirloin steak served caramelized baby onion': 1, 'truffle mashed potato mushroom sauce': 1, 'gmgippsland victorian angus steak tenderloin rosemary chat potatoes': 1, 'broccolini mushroom sauce': 2, 'hand crumbed chicken breast topped smoked ham': 1, 'grilled eggplant': 1, 'napolitana sauce ': 1, 'provolone cheese served mash potato': 1, 'marinated chargrilled chicken breast creamy mushed potato': 1, 'lightly seasoned calamari served chips': 1, 'salad': 1, 'lemon ': 1, 'aioli': 1, 'seasonal roasted vegetables served lemon butter sauce': 1, 'basil san marzano napolitano sugo': 1, 'tagliatelle wit local tiger prawns': 1, 'basil': 1, 'chili san marzano napolitana sugo': 1, 'spaghetti slow cooked beef mince san marzano napolitana sugo basil': 1, 'pappardelle slow cooked lamb rich napolitana sauce ': 1, 'red wine': 1, 'linguine local tiger prawns': 1, 'lime': 1, 'chili': 1, 'blister cherry tomatoes': 1, 'rocket ricotta cheese': 1, 'mussels': 2, 'calamari vongole touch chili garlic butter light san marzano napolitano sauce': 1, 'sydney tiger prawns': 1, 'scallop tender calamari rich red napolitana sauce aged parmesan': 1, 'mixed olives red wine vinegar evoo': 1, 'fresh ricotta cheese': 1, 'sundried tomato': 1, 'italian herbs touch chili': 1, 'crispy': 1, 'fried sicilian balls rice vegetable': 1, 'provolone parmesan cheese served arrabbiata sauce': 1, 'rich red cabernet napolitano garlic sauce': 1}\n",
      "Ragazzi: {'lillypilly wine': 2, 'panna cotta': 2, 'orange blossom': 2, 'apricot': 2, 'hazelnuts': 1, 'coffee': 1, 'espresso': 1, 'vodka': 1, 'coffee liqueur': 1, 'amaro': 2, 'herbs': 2, 'spices': 2, 'grappa': 1, 'muller thurgau grapes': 1, 'sambuca': 1, 'anise': 1, 'chocolate': 1, 'bourbon': 1, 'lemon': 1, 'rosemary': 3, 'almond': 1, 'sugar': 1, 'pistachios': 1, 'blueberries': 1, 'juniper berries': 1, 'anchovy': 2, 'butter': 2, 'sourdough bread': 1, 'eggplant': 2, 'tomato': 4, 'basil': 3, 'salted ricotta': 2, 'ravioli': 2, 'mixed leaf salad': 2, 'sourdough': 1, 'spaghetti': 1, 'pecorino cheese': 1, 'pepper': 1, 'mushroom': 2, 'blue cheese': 1, 'breadcrumbs': 4, 'potato': 1, 'black truffle': 1, 'reggiano cheese': 2, 'yellowfin tuna': 2, 'daikon': 2, 'blood plum': 3, 'buckwheat': 3, 'stracciatella': 1, 'persimmon': 2, 'chili': 2, 'capers': 1, 'spanner crab': 1, 'jerusalem artichoke': 1, 'yuzu': 1, 'beef': 1, 'black garlic': 1, 'mushrooms': 1, 'egg yolk': 2, 'taleggio cheese': 1, 'bluefin tuna': 1, 'roasted carrots': 1, 'yogurt': 1, 'dill': 1, 'pangrattato': 1, 'romaine lettuce': 1, 'pancetta': 1, 'pork belly': 1, 'burrata': 2, 'piquillo peppers': 2, 'onion': 1, 'nduja': 1, 'mozzarella': 1, 'gnocco fritto': 1, 'mortadella': 1, 'parmesan': 1, 'scallops': 1, 'apple': 1, 'yuzu koshu': 1, 'shallots': 1, 'kingfish': 1, 'buttermilk': 1, 'finger lime': 1, 'cucumber': 1, 'heirloom tomatoes': 1, 'marjoram': 1, 'smoked oil': 1, 'pansotti': 1, 'ricotta': 1, 'carrot': 1, 'chickpeas': 1, 'honey': 1, 'lumache pasta': 1, 'blue swimmer crab': 1, 'zucchini': 1, 'green onion': 1, 'mafaldine': 1, 'prawns': 1, 'kombu butter': 1, 'conchiglie pasta': 1, 'pork sausage': 1, 'pipis': 1, 'garlic': 1, 'casarecce pasta': 1, 'duck ragu': 1, 'px wine': 1, 'oscietra caviar': 1}\n",
      "Restaurant Hubert: {'sterling caviar': 1, 'savoury doughnuts': 1, 'cultured cream': 2, 'sydney rock oysters': 1, 'eschalot black pepper vinaigrette': 1, 'sea urchin': 1, 'trout roe': 1, 'avruga tart': 1, 'brown butter': 1, 'bonito soy': 1, 'white cloud mushroom': 1, 'spanner crab': 1, 'espelette': 1, 'mayonnaise': 1, 'brioche': 1, 'xo roasted snails': 1, 'xo butter': 1, 'hubert baguette': 2, 'gruyère soufflé': 1, 'confit field mushroom': 1, 'peppercorn sauce': 1, 'wagyu topside': 1, 'classic condiments': 1, 'madeira jus': 1, 'organic bread co baguette': 1, 'butter': 1, 'selection cured sausages': 1, 'liver mousse': 1, 'maple syrup jelly': 1, 'duck neck sausage': 1, 'dijon wasabi': 1, 'prune nori': 1, 'beef eye fillet baked pastry': 1, 'mushrooms': 1, 'stuffed pigs trotter': 1, 'ginger': 1, 'shiitake': 1, 'potato puree': 1, 'angus sirloin steak': 1, 'bone marrow butter': 1, 'confit mushrooms': 1, 'carrots': 1, 'lardons': 1, 'rangers valley rib eye': 1, 'bearnaise sauce': 1, 'sauce vin jaune': 1, 'sorrel': 1, 'whole oven roasted fish day': 1, 'whole australian rock lobster': 1, 'green garlic butter': 1, 'chive': 1, 'whole chicken': 1, 'bread sauce': 1, 'green garlic': 1, 'spicy cabbage': 1, 'sweet onion gratin': 1, 'seasonal buttered greens': 1, 'layered potato': 1, 'miso beurre blanc': 1, 'french fries': 1, 'soft herbs': 1, 'egg custard': 1, 'bitter caramel': 1, 'selection fruit': 1, 'sorbet': 1, 'ice cream': 1, 'hazelnut crumb': 1, 'chocolate mousse': 1, 'almond biscuit': 1, 'layered pastry': 1, 'seasonal fruit': 1, 'vanilla cream': 1, 'passionfruit soufflé': 1}\n",
      "Santa Catarina: Oaxacan Restaurant & Mezcal Bar Sydney: {'tequila mignonette': 1, 'xnipek': 1, 'ancient seeds': 2, 'chilli': 2, 'homemade corn chips': 2, 'angus flank steak': 2, 'davidson plum mole': 2, 'radicchio': 2, 'mole verde': 2, 'corn': 1, 'macadamia': 3, 'la diabla sauce': 1, 'black beans': 1, 'oaxaca cheese': 1, 'avocado': 2, 'grilled wild adobo mushroom': 1, 'mother mole': 1, 'squid ink': 1, 'cucumber': 1, 'tatemado salsa': 1, 'blue corn tostada': 1, 'corn masa tart': 1, 'refried beans': 1, 'mango': 1, 'habanero': 1, 'guacachile': 1, 'nduja': 2, 'confit potatoes': 1, 'zarandeado': 1, 'pico de gallo': 1, 'soft guiado': 1, 'mint salad': 1, 'gr abuelas mole': 1, 'chimichurri': 2, 'gr mother mole': 1, 'guacachile pico de gallo': 1, 'arbol chilli': 1, 'peanuts': 1, 'pine nuts': 1, 'rosemary': 1, 'confit garlic': 1, 'ancho mayo': 1, 'orange ': 1, 'grapefruit supreme': 1, 'cos lettuce': 1, 'lime dressing': 1, 'eggplant purée ': 1, 'mexican vanilla': 1, 'creme caramel ': 1, 'chocolate cake': 2, 'crickets': 1, 'confit potatoes,chipotle mayo': 1, 'rooster beak': 1, 'mexican vanilla ': 1, 'crème caramel ': 1, 'corn ': 1}\n",
      "The Charles Brasserie & Bar: {'ricotta': 1, 'spinach': 1, 'toasted buckwheat': 1, 'smoked dulse ea': 1, 'house mignonette': 1, 'selection fresh market seafood': 1, 'hazelnuts': 1, 'chevre du pelussin': 1, 'blood orange': 1, 'citrus vinaigrette': 1, 'buttermilk': 1, 'citrus': 1, 'warm brioche': 1, 'conservas angelachu anchovy': 1, 'cos hearts': 1, 'split peas': 1, 'marjoram': 1, 'rice pilaf': 1, 'sauce caviar': 1, 'sauce périgueux': 1, 'gentlemans relish': 1, 'house chutney': 1, 'radicchio': 1, 'spring vegetables': 1, 'ricotta salata': 1, 'roasted fennel': 1, 'vinaigrette au curry': 1, 'broadbeans': 1, 'mussels': 1, 'smoked butter': 1, 'sauce américaine': 1, 'mbs spinach': 1, 'smoked bone marrow': 1, 'mbs sauce bordelaise': 1, 'kaluga caviar': 1, 'potatoes': 1, 'oil': 1, 'cherry tomatoes': 1, 'smoked yogurt': 1, 'lettuce': 1, 'honey vinaigrette': 1, 'honey': 2, 'prune flan': 1, 'layered cake': 1, 'banana': 1, 'butter': 2, 'flour': 2, 'earl grey tea': 1, 'bergamot': 1, 'apples': 1, 'pastry': 1, 'passionfruit': 1, 'sugar': 4, 'chestnut': 1, 'madeleine': 1, 'whisky': 1, 'dacquoise': 1, 'chocolate': 3, 'tarragon': 1, 'mustard': 1, 'almond flour': 1, 'egg whites': 1, 'cream': 1, 'feuilletine': 1, 'shortbread': 1, 'caramel': 1, 'cannoli shells': 1, 'ricotta cheese': 1, 'chocolate chips': 1, 'milk': 1, 'eggs': 1, 'rum': 1, 'vanilla': 1}\n",
      "The Gidley: {'corn totopos': 1, 'salsa macha oil': 1, 'lime': 3, 'cilantro': 3, 'chilli': 1, 'onion': 2, 'crisp yellow corn shell': 1, 'egg jam': 1, 'mountain pepper leaf': 1, 'papas al hilo': 1, 'smoked bean purée': 1, 'avocado': 1, 'mahon cheese': 1, 'roasted eggplant v': 1, 'leche de tigre': 1, 'karkalla': 1, 'plantain frito': 1, 'adobo marinated pork': 1, 'tomatillo salsa': 2, 'roasted piña': 1, 'hand made corn tortilla': 2, 'tomatillo': 1, 'salsa mexicana': 1, 'mole de mar': 1, 'bottarga': 1, 'salsa verde': 1, 'chorizo chipotle butter': 1, 'cactus': 1, 'chochoyotes': 1, 'pickled watermelon radish': 1, 'baby onions': 1, 'salsa tatemada': 1, 'crispy shallot': 1, 'chayote squash': 1, 'yellow squash': 1, 'radicchio': 1, 'mole verde': 1, 'toasted sunflower seed vinaigrette n': 1, 'pipian rojo': 1, 'grilled chard': 1, 'spiced pepita crumb': 1, 'sherry glaze': 1, 'tinga sauce': 1, 'grilled spring onion': 1, 'mote': 1, 'fresh market fish': 1, 'cabbage purée': 1, 'charred salsa verde': 1, 'consommé': 1, 'pickled chilli': 1, 'black garlic ': 1, 'chipotle butter': 1, 'spiced labneh': 1, 'toasted almond': 1, 'chilli oil n': 1, 'smoked kipflers': 1, 'roasted jalapeño crema': 1, 'pistachio crema': 1, 'toasted pistachio': 1, 'chive n': 1, 'salsa pasilla': 1, 'salsa picante': 1, 'burnt onion': 1, 'coconut mousse': 1, 'pineapple sorbet': 1, 'granita': 1, 'charred pineapple rum salsa': 1, 'café de olla pot coffee ice cream': 1, 'chocolate mousse': 1, 'chilli chocolate ice cream caramelised white chocolate': 1}\n"
     ]
    }
   ],
   "source": [
    "# Dictionary to store ingredient frequencies for each restaurant\n",
    "restaurant_ingredients = {}\n",
    "\n",
    "# Loop through each restaurant and its corresponding key ingredients\n",
    "for restaurant, ingredients in df.groupby('Restaurant')['Key_Ingredients']:\n",
    "    # Combine all key ingredients for a restaurant into one list, split by commas, and strip whitespace\n",
    "    all_ingredients = ', '.join(ingredients).split(', ')\n",
    "    \n",
    "    # Count the frequency of each ingredient using Counter\n",
    "    ingredient_counter = Counter(all_ingredients)\n",
    "    \n",
    "    # Store the ingredient frequencies in the dictionary\n",
    "    restaurant_ingredients[restaurant] = ingredient_counter\n",
    "\n",
    "# Display the result\n",
    "for rest, ing_counter in restaurant_ingredients.items():\n",
    "    print(f\"{rest}: {dict(ing_counter)}\")"
   ]
  },
  {
   "cell_type": "code",
   "execution_count": 131,
   "id": "725d2f0f-2c14-48b9-b54b-965d12f579dd",
   "metadata": {},
   "outputs": [],
   "source": [
    "# pickle.dump(restaurant_ingredients,open('restaurant_ingredients.pkl','wb'))"
   ]
  },
  {
   "cell_type": "code",
   "execution_count": 126,
   "id": "1968cb56-7c65-4fb5-b2ef-34de2b135add",
   "metadata": {},
   "outputs": [],
   "source": [
    "# pickle.dump(product_category,open('product_catalogue.pkl','wb'))"
   ]
  },
  {
   "cell_type": "code",
   "execution_count": 133,
   "id": "d208a937-acea-4c4a-b3fd-ddb692c5f7d0",
   "metadata": {
    "scrolled": true,
    "tags": []
   },
   "outputs": [],
   "source": [
    "# df.to_csv('preprocessed_restaurant.csv')"
   ]
  },
  {
   "cell_type": "code",
   "execution_count": null,
   "id": "0c8ef04d-6cdf-4914-b06b-092d56ba0602",
   "metadata": {},
   "outputs": [],
   "source": []
  }
 ],
 "metadata": {
  "kernelspec": {
   "display_name": "foboh-test-env",
   "language": "python",
   "name": "foboh-test-env"
  },
  "language_info": {
   "codemirror_mode": {
    "name": "ipython",
    "version": 3
   },
   "file_extension": ".py",
   "mimetype": "text/x-python",
   "name": "python",
   "nbconvert_exporter": "python",
   "pygments_lexer": "ipython3",
   "version": "3.8.2"
  }
 },
 "nbformat": 4,
 "nbformat_minor": 5
}
